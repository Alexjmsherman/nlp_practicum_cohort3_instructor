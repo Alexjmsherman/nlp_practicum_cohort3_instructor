{
 "cells": [
  {
   "cell_type": "markdown",
   "metadata": {},
   "source": [
    "## Deep Learning for NLP\n",
    "\n",
    "##### Author: Alex Sherman | alsherman@deloitte.com\n",
    "\n",
    "\n",
    "Agenda:\n"
   ]
  },
  {
   "cell_type": "code",
   "execution_count": 145,
   "metadata": {},
   "outputs": [],
   "source": [
    "from configparser import ConfigParser, ExtendedInterpolation\n",
    "import os\n",
    "import numpy as np\n",
    "import pandas as pd\n",
    "from numpy import array\n",
    "from numpy import asarray\n",
    "from numpy import zeros\n",
    "from IPython.core.display import display, HTML\n",
    "from IPython.display import Image\n",
    "from gensim.utils import simple_preprocess\n",
    "from sklearn.model_selection import train_test_split\n",
    "from sklearn.linear_model import LogisticRegression\n",
    "from sklearn import metrics\n",
    "from sklearn.feature_extraction.text import TfidfVectorizer\n",
    "from sklearn.metrics import confusion_matrix\n",
    "import seaborn as sns\n",
    "from gensim.utils import simple_preprocess\n",
    "from gensim.models import KeyedVectors"
   ]
  },
  {
   "cell_type": "code",
   "execution_count": 15,
   "metadata": {},
   "outputs": [],
   "source": [
    "from keras.preprocessing.text import Tokenizer\n",
    "from keras.preprocessing.sequence import pad_sequences\n",
    "from keras.models import Sequential\n",
    "from keras.layers import Dense, Flatten, LSTM, Conv1D, MaxPooling1D, Dropout, Activation, \\\n",
    "    Embedding, Input, GlobalAveragePooling1D, GlobalMaxPooling1D, SpatialDropout1D, GlobalMaxPool1D\n",
    "from keras.layers.embeddings import Embedding\n",
    "from keras.models import Model, Sequential\n",
    "from keras.initializers import Constant\n",
    "from keras.utils import to_categorical"
   ]
  },
  {
   "cell_type": "markdown",
   "metadata": {},
   "source": [
    "### Problem Definition"
   ]
  },
  {
   "cell_type": "code",
   "execution_count": 16,
   "metadata": {},
   "outputs": [],
   "source": [
    "config = ConfigParser(interpolation=ExtendedInterpolation())\n",
    "config.read('../../config.ini')\n",
    "\n",
    "REPORTER_DATA_PATH = config['DATA']['REPORTER_DATA_PATH']"
   ]
  },
  {
   "cell_type": "code",
   "execution_count": 17,
   "metadata": {},
   "outputs": [
    {
     "data": {
      "text/html": [
       "<div>\n",
       "<style scoped>\n",
       "    .dataframe tbody tr th:only-of-type {\n",
       "        vertical-align: middle;\n",
       "    }\n",
       "\n",
       "    .dataframe tbody tr th {\n",
       "        vertical-align: top;\n",
       "    }\n",
       "\n",
       "    .dataframe thead th {\n",
       "        text-align: right;\n",
       "    }\n",
       "</style>\n",
       "<table border=\"1\" class=\"dataframe\">\n",
       "  <thead>\n",
       "    <tr style=\"text-align: right;\">\n",
       "      <th></th>\n",
       "      <th>APPLICATION_ID</th>\n",
       "      <th>ACTIVITY</th>\n",
       "      <th>ADMINISTERING_IC</th>\n",
       "      <th>APPLICATION_TYPE</th>\n",
       "      <th>ARRA_FUNDED</th>\n",
       "      <th>AWARD_NOTICE_DATE</th>\n",
       "      <th>BUDGET_START</th>\n",
       "      <th>BUDGET_END</th>\n",
       "      <th>CFDA_CODE</th>\n",
       "      <th>CORE_PROJECT_NUM</th>\n",
       "      <th>...</th>\n",
       "      <th>SERIAL_NUMBER</th>\n",
       "      <th>STUDY_SECTION</th>\n",
       "      <th>STUDY_SECTION_NAME</th>\n",
       "      <th>SUBPROJECT_ID</th>\n",
       "      <th>SUFFIX</th>\n",
       "      <th>SUPPORT_YEAR</th>\n",
       "      <th>DIRECT_COST_AMT</th>\n",
       "      <th>INDIRECT_COST_AMT</th>\n",
       "      <th>TOTAL_COST</th>\n",
       "      <th>TOTAL_COST_SUB_PROJECT</th>\n",
       "    </tr>\n",
       "  </thead>\n",
       "  <tbody>\n",
       "    <tr>\n",
       "      <th>0</th>\n",
       "      <td>9260950</td>\n",
       "      <td>R01</td>\n",
       "      <td>MH</td>\n",
       "      <td>5.0</td>\n",
       "      <td>N</td>\n",
       "      <td>02/28/2017</td>\n",
       "      <td>03/01/2017</td>\n",
       "      <td>02/28/2018</td>\n",
       "      <td>242.0</td>\n",
       "      <td>R01MH100027</td>\n",
       "      <td>...</td>\n",
       "      <td>100027</td>\n",
       "      <td>ZHD1</td>\n",
       "      <td>Special Emphasis Panel</td>\n",
       "      <td>NaN</td>\n",
       "      <td>NaN</td>\n",
       "      <td>10.0</td>\n",
       "      <td>2364258.0</td>\n",
       "      <td>395326.0</td>\n",
       "      <td>2759584.0</td>\n",
       "      <td>NaN</td>\n",
       "    </tr>\n",
       "    <tr>\n",
       "      <th>1</th>\n",
       "      <td>9277747</td>\n",
       "      <td>U54</td>\n",
       "      <td>CA</td>\n",
       "      <td>2.0</td>\n",
       "      <td>N</td>\n",
       "      <td>05/12/2017</td>\n",
       "      <td>05/12/2017</td>\n",
       "      <td>04/30/2018</td>\n",
       "      <td>397.0</td>\n",
       "      <td>U54CA163004</td>\n",
       "      <td>...</td>\n",
       "      <td>163004</td>\n",
       "      <td>ZCA1</td>\n",
       "      <td>Special Emphasis Panel</td>\n",
       "      <td>NaN</td>\n",
       "      <td>NaN</td>\n",
       "      <td>6.0</td>\n",
       "      <td>978861.0</td>\n",
       "      <td>331222.0</td>\n",
       "      <td>1310083.0</td>\n",
       "      <td>NaN</td>\n",
       "    </tr>\n",
       "    <tr>\n",
       "      <th>2</th>\n",
       "      <td>9466899</td>\n",
       "      <td>SB1</td>\n",
       "      <td>ES</td>\n",
       "      <td>2.0</td>\n",
       "      <td>N</td>\n",
       "      <td>09/12/2017</td>\n",
       "      <td>09/15/2017</td>\n",
       "      <td>08/31/2018</td>\n",
       "      <td>113.0</td>\n",
       "      <td>SB1ES022880</td>\n",
       "      <td>...</td>\n",
       "      <td>022880</td>\n",
       "      <td>ZRG1</td>\n",
       "      <td>Special Emphasis Panel</td>\n",
       "      <td>NaN</td>\n",
       "      <td>NaN</td>\n",
       "      <td>4.0</td>\n",
       "      <td>94518.0</td>\n",
       "      <td>93953.0</td>\n",
       "      <td>199968.0</td>\n",
       "      <td>NaN</td>\n",
       "    </tr>\n",
       "    <tr>\n",
       "      <th>3</th>\n",
       "      <td>9255779</td>\n",
       "      <td>R43</td>\n",
       "      <td>GM</td>\n",
       "      <td>1.0</td>\n",
       "      <td>N</td>\n",
       "      <td>03/14/2017</td>\n",
       "      <td>04/01/2017</td>\n",
       "      <td>03/31/2019</td>\n",
       "      <td>859.0</td>\n",
       "      <td>R43GM122226</td>\n",
       "      <td>...</td>\n",
       "      <td>122226</td>\n",
       "      <td>ZRG1</td>\n",
       "      <td>Special Emphasis Panel</td>\n",
       "      <td>NaN</td>\n",
       "      <td>NaN</td>\n",
       "      <td>1.0</td>\n",
       "      <td>NaN</td>\n",
       "      <td>NaN</td>\n",
       "      <td>223866.0</td>\n",
       "      <td>NaN</td>\n",
       "    </tr>\n",
       "    <tr>\n",
       "      <th>4</th>\n",
       "      <td>9556855</td>\n",
       "      <td>ZIC</td>\n",
       "      <td>CA</td>\n",
       "      <td>1.0</td>\n",
       "      <td>N</td>\n",
       "      <td>NaN</td>\n",
       "      <td>NaN</td>\n",
       "      <td>NaN</td>\n",
       "      <td>NaN</td>\n",
       "      <td>ZICBC011574</td>\n",
       "      <td>...</td>\n",
       "      <td>011574</td>\n",
       "      <td>NaN</td>\n",
       "      <td>NaN</td>\n",
       "      <td>NaN</td>\n",
       "      <td>NaN</td>\n",
       "      <td>4.0</td>\n",
       "      <td>NaN</td>\n",
       "      <td>NaN</td>\n",
       "      <td>466646.0</td>\n",
       "      <td>NaN</td>\n",
       "    </tr>\n",
       "  </tbody>\n",
       "</table>\n",
       "<p>5 rows × 46 columns</p>\n",
       "</div>"
      ],
      "text/plain": [
       "   APPLICATION_ID ACTIVITY ADMINISTERING_IC  APPLICATION_TYPE ARRA_FUNDED  \\\n",
       "0         9260950      R01               MH               5.0           N   \n",
       "1         9277747      U54               CA               2.0           N   \n",
       "2         9466899      SB1               ES               2.0           N   \n",
       "3         9255779      R43               GM               1.0           N   \n",
       "4         9556855      ZIC               CA               1.0           N   \n",
       "\n",
       "  AWARD_NOTICE_DATE BUDGET_START  BUDGET_END  CFDA_CODE CORE_PROJECT_NUM  ...  \\\n",
       "0        02/28/2017   03/01/2017  02/28/2018      242.0      R01MH100027  ...   \n",
       "1        05/12/2017   05/12/2017  04/30/2018      397.0      U54CA163004  ...   \n",
       "2        09/12/2017   09/15/2017  08/31/2018      113.0      SB1ES022880  ...   \n",
       "3        03/14/2017   04/01/2017  03/31/2019      859.0      R43GM122226  ...   \n",
       "4               NaN          NaN         NaN        NaN      ZICBC011574  ...   \n",
       "\n",
       "  SERIAL_NUMBER STUDY_SECTION       STUDY_SECTION_NAME SUBPROJECT_ID SUFFIX  \\\n",
       "0        100027          ZHD1  Special Emphasis Panel            NaN    NaN   \n",
       "1        163004          ZCA1  Special Emphasis Panel            NaN    NaN   \n",
       "2        022880          ZRG1  Special Emphasis Panel            NaN    NaN   \n",
       "3        122226          ZRG1  Special Emphasis Panel            NaN    NaN   \n",
       "4        011574           NaN                      NaN           NaN    NaN   \n",
       "\n",
       "   SUPPORT_YEAR DIRECT_COST_AMT INDIRECT_COST_AMT TOTAL_COST  \\\n",
       "0          10.0       2364258.0          395326.0  2759584.0   \n",
       "1           6.0        978861.0          331222.0  1310083.0   \n",
       "2           4.0         94518.0           93953.0   199968.0   \n",
       "3           1.0             NaN               NaN   223866.0   \n",
       "4           4.0             NaN               NaN   466646.0   \n",
       "\n",
       "  TOTAL_COST_SUB_PROJECT  \n",
       "0                    NaN  \n",
       "1                    NaN  \n",
       "2                    NaN  \n",
       "3                    NaN  \n",
       "4                    NaN  \n",
       "\n",
       "[5 rows x 46 columns]"
      ]
     },
     "execution_count": 17,
     "metadata": {},
     "output_type": "execute_result"
    }
   ],
   "source": [
    "df = pd.read_csv(\n",
    "    REPORTER_DATA_PATH,\n",
    "    encoding='latin-1'  # common encoding to handle messy data\n",
    ")\n",
    "df.head()"
   ]
  },
  {
   "cell_type": "code",
   "execution_count": 18,
   "metadata": {},
   "outputs": [
    {
     "data": {
      "text/html": [
       "<div>\n",
       "<style scoped>\n",
       "    .dataframe tbody tr th:only-of-type {\n",
       "        vertical-align: middle;\n",
       "    }\n",
       "\n",
       "    .dataframe tbody tr th {\n",
       "        vertical-align: top;\n",
       "    }\n",
       "\n",
       "    .dataframe thead th {\n",
       "        text-align: right;\n",
       "    }\n",
       "</style>\n",
       "<table border=\"1\" class=\"dataframe\">\n",
       "  <thead>\n",
       "    <tr style=\"text-align: right;\">\n",
       "      <th></th>\n",
       "      <th>ADMINISTERING_IC</th>\n",
       "      <th>FY</th>\n",
       "      <th>IC_NAME</th>\n",
       "      <th>PROJECT_TITLE</th>\n",
       "    </tr>\n",
       "  </thead>\n",
       "  <tbody>\n",
       "    <tr>\n",
       "      <th>0</th>\n",
       "      <td>MH</td>\n",
       "      <td>2017</td>\n",
       "      <td>NATIONAL INSTITUTE OF MENTAL HEALTH</td>\n",
       "      <td>Autism Genetics, Phase II: Increasing Represen...</td>\n",
       "    </tr>\n",
       "    <tr>\n",
       "      <th>1</th>\n",
       "      <td>CA</td>\n",
       "      <td>2017</td>\n",
       "      <td>NATIONAL CANCER INSTITUTE</td>\n",
       "      <td>The Role of the Microenvironment in Barrett's ...</td>\n",
       "    </tr>\n",
       "    <tr>\n",
       "      <th>2</th>\n",
       "      <td>ES</td>\n",
       "      <td>2017</td>\n",
       "      <td>NATIONAL INSTITUTE OF ENVIRONMENTAL HEALTH SCI...</td>\n",
       "      <td>Low-Cost Catalytic Biomass Cookstove for Impro...</td>\n",
       "    </tr>\n",
       "    <tr>\n",
       "      <th>3</th>\n",
       "      <td>GM</td>\n",
       "      <td>2017</td>\n",
       "      <td>NATIONAL INSTITUTE OF GENERAL MEDICAL SCIENCES</td>\n",
       "      <td>Surgical Wound Closure Matrices for the Preven...</td>\n",
       "    </tr>\n",
       "    <tr>\n",
       "      <th>4</th>\n",
       "      <td>CA</td>\n",
       "      <td>2017</td>\n",
       "      <td>NATIONAL CANCER INSTITUTE</td>\n",
       "      <td>LRBGE Optical Microscopy Core</td>\n",
       "    </tr>\n",
       "  </tbody>\n",
       "</table>\n",
       "</div>"
      ],
      "text/plain": [
       "  ADMINISTERING_IC    FY                                            IC_NAME  \\\n",
       "0               MH  2017                NATIONAL INSTITUTE OF MENTAL HEALTH   \n",
       "1               CA  2017                          NATIONAL CANCER INSTITUTE   \n",
       "2               ES  2017  NATIONAL INSTITUTE OF ENVIRONMENTAL HEALTH SCI...   \n",
       "3               GM  2017     NATIONAL INSTITUTE OF GENERAL MEDICAL SCIENCES   \n",
       "4               CA  2017                          NATIONAL CANCER INSTITUTE   \n",
       "\n",
       "                                       PROJECT_TITLE  \n",
       "0  Autism Genetics, Phase II: Increasing Represen...  \n",
       "1  The Role of the Microenvironment in Barrett's ...  \n",
       "2  Low-Cost Catalytic Biomass Cookstove for Impro...  \n",
       "3  Surgical Wound Closure Matrices for the Preven...  \n",
       "4                      LRBGE Optical Microscopy Core  "
      ]
     },
     "execution_count": 18,
     "metadata": {},
     "output_type": "execute_result"
    }
   ],
   "source": [
    "# filter to relevant columns\n",
    "df = df[['ADMINISTERING_IC', 'FY',  'IC_NAME', 'PROJECT_TITLE']]\n",
    "df.head()"
   ]
  },
  {
   "cell_type": "code",
   "execution_count": 19,
   "metadata": {},
   "outputs": [
    {
     "data": {
      "text/plain": [
       "NATIONAL CANCER INSTITUTE                                                          11406\n",
       "NATIONAL INSTITUTE OF ALLERGY AND INFECTIOUS DISEASES                               7744\n",
       "NATIONAL INSTITUTE OF GENERAL MEDICAL SCIENCES                                      7587\n",
       "NATIONAL HEART, LUNG, AND BLOOD INSTITUTE                                           6456\n",
       "NATIONAL INSTITUTE OF DIABETES AND DIGESTIVE AND KIDNEY DISEASES                    5051\n",
       "NATIONAL INSTITUTE OF NEUROLOGICAL DISORDERS AND STROKE                             4591\n",
       "NATIONAL INSTITUTE ON AGING                                                         3928\n",
       "NATIONAL INSTITUTE OF MENTAL HEALTH                                                 3515\n",
       "EUNICE KENNEDY SHRIVER NATIONAL INSTITUTE OF CHILD HEALTH & HUMAN DEVELOPMENT       3375\n",
       "NATIONAL INSTITUTE ON DRUG ABUSE                                                    2569\n",
       "NATIONAL EYE INSTITUTE                                                              1809\n",
       "NATIONAL INSTITUTE OF ENVIRONMENTAL HEALTH SCIENCES                                 1756\n",
       "NATIONAL INSTITUTE OF ARTHRITIS AND MUSCULOSKELETAL AND SKIN DISEASES               1576\n",
       "Veterans Affairs                                                                    1404\n",
       "NATIONAL INSTITUTE ON ALCOHOL ABUSE AND ALCOHOLISM                                  1262\n",
       "NATIONAL INSTITUTE ON DEAFNESS AND OTHER COMMUNICATION DISORDERS                    1173\n",
       "NATIONAL INSTITUTE OF BIOMEDICAL IMAGING AND BIOENGINEERING                         1065\n",
       "NATIONAL INSTITUTE OF DENTAL & CRANIOFACIAL RESEARCH                                 907\n",
       "OFFICE OF THE DIRECTOR, NATIONAL INSTITUTES OF HEALTH                                781\n",
       "NATIONAL HUMAN GENOME RESEARCH INSTITUTE                                             704\n",
       "National Institute on Minority Health and Health Disparities                         693\n",
       "NATIONAL CENTER FOR ADVANCING TRANSLATIONAL SCIENCES                                 553\n",
       "FOOD AND DRUG ADMINISTRATION                                                         543\n",
       "AGENCY FOR HEALTHCARE RESEARCH AND QUALITY                                           474\n",
       "NATIONAL INSTITUTE OF NURSING RESEARCH                                               398\n",
       "National Center for Complementary & Integrative Health                               328\n",
       "FOGARTY INTERNATIONAL CENTER                                                         310\n",
       "NATIONAL LIBRARY OF MEDICINE                                                         274\n",
       "NATIONAL INSTITUTE FOR OCCUPATIONAL SAFETY AND HEALTH                                191\n",
       "NATIONAL CENTER FOR CHRONIC DISEASE PREV AND HEALTH PROMO                            156\n",
       "CLINICAL CENTER                                                                      145\n",
       "National Center on Birth Defects and Developmental Disabilities                       52\n",
       "NATIONAL CENTER FOR INJURY PREVENTION AND CONTROL                                     48\n",
       "Administration for Children and Families                                              36\n",
       "National Center for Emerging and Zoonotic Infectious Diseases (NCEZID)                34\n",
       "Center for Global Health                                                              34\n",
       "National Center for Immunization and Respiratory Diseases (NCIRD)                     27\n",
       "National Center for HIV/AIDS, Viral Hepatitis, STD, and TB Prevention (NCHHSTP)       23\n",
       "CENTER  FOR INFORMATION TECHNOLOGY                                                    13\n",
       "NATIONAL CENTER FOR ENVIRONMENTAL HEALTH                                               9\n",
       "AGENCY FOR TOXIC SUBSTANCES AND DISEASE REGISTRY                                       7\n",
       "NATIONAL CENTER FOR HEALTH STATISTICS                                                  3\n",
       "Name: IC_NAME, dtype: int64"
      ]
     },
     "execution_count": 19,
     "metadata": {},
     "output_type": "execute_result"
    }
   ],
   "source": [
    "# observe IC representation in dataset\n",
    "df['IC_NAME'].value_counts()"
   ]
  },
  {
   "cell_type": "code",
   "execution_count": 20,
   "metadata": {},
   "outputs": [
    {
     "data": {
      "text/plain": [
       "0                             NATIONAL CANCER INSTITUTE\n",
       "1     NATIONAL INSTITUTE OF ALLERGY AND INFECTIOUS D...\n",
       "2        NATIONAL INSTITUTE OF GENERAL MEDICAL SCIENCES\n",
       "3             NATIONAL HEART, LUNG, AND BLOOD INSTITUTE\n",
       "4     NATIONAL INSTITUTE OF DIABETES AND DIGESTIVE A...\n",
       "5     NATIONAL INSTITUTE OF NEUROLOGICAL DISORDERS A...\n",
       "6                           NATIONAL INSTITUTE ON AGING\n",
       "7                   NATIONAL INSTITUTE OF MENTAL HEALTH\n",
       "8     EUNICE KENNEDY SHRIVER NATIONAL INSTITUTE OF C...\n",
       "9                      NATIONAL INSTITUTE ON DRUG ABUSE\n",
       "10                               NATIONAL EYE INSTITUTE\n",
       "11    NATIONAL INSTITUTE OF ENVIRONMENTAL HEALTH SCI...\n",
       "12    NATIONAL INSTITUTE OF ARTHRITIS AND MUSCULOSKE...\n",
       "Name: index, dtype: object"
      ]
     },
     "execution_count": 20,
     "metadata": {},
     "output_type": "execute_result"
    }
   ],
   "source": [
    "# convert IC counts to a dataframe\n",
    "top_ic = df['IC_NAME'].value_counts().reset_index()\n",
    "# filter to top ICs\n",
    "top_ic_names = top_ic[top_ic.IC_NAME > 1500]['index']\n",
    "# view results\n",
    "top_ic_names"
   ]
  },
  {
   "cell_type": "code",
   "execution_count": 21,
   "metadata": {},
   "outputs": [
    {
     "data": {
      "text/plain": [
       "(61363, 4)"
      ]
     },
     "execution_count": 21,
     "metadata": {},
     "output_type": "execute_result"
    }
   ],
   "source": [
    "df = df[df['IC_NAME'].isin(top_ic_names)]\n",
    "df.shape"
   ]
  },
  {
   "cell_type": "code",
   "execution_count": 22,
   "metadata": {},
   "outputs": [
    {
     "data": {
      "text/plain": [
       "(array([ 0,  1,  2, ...,  1, 11,  1], dtype=int64),\n",
       " Index(['NATIONAL INSTITUTE OF MENTAL HEALTH', 'NATIONAL CANCER INSTITUTE',\n",
       "        'NATIONAL INSTITUTE OF ENVIRONMENTAL HEALTH SCIENCES',\n",
       "        'NATIONAL INSTITUTE OF GENERAL MEDICAL SCIENCES',\n",
       "        'NATIONAL INSTITUTE OF NEUROLOGICAL DISORDERS AND STROKE',\n",
       "        'NATIONAL INSTITUTE ON AGING',\n",
       "        'NATIONAL HEART, LUNG, AND BLOOD INSTITUTE',\n",
       "        'NATIONAL INSTITUTE OF DIABETES AND DIGESTIVE AND KIDNEY DISEASES',\n",
       "        'EUNICE KENNEDY SHRIVER NATIONAL INSTITUTE OF CHILD HEALTH & HUMAN DEVELOPMENT',\n",
       "        'NATIONAL EYE INSTITUTE', 'NATIONAL INSTITUTE ON DRUG ABUSE',\n",
       "        'NATIONAL INSTITUTE OF ALLERGY AND INFECTIOUS DISEASES',\n",
       "        'NATIONAL INSTITUTE OF ARTHRITIS AND MUSCULOSKELETAL AND SKIN DISEASES'],\n",
       "       dtype='object'))"
      ]
     },
     "execution_count": 22,
     "metadata": {},
     "output_type": "execute_result"
    }
   ],
   "source": [
    "# factorizer - convert categories to numbers\n",
    "df['IC_NAME'].factorize()"
   ]
  },
  {
   "cell_type": "code",
   "execution_count": 23,
   "metadata": {},
   "outputs": [
    {
     "data": {
      "text/html": [
       "<div>\n",
       "<style scoped>\n",
       "    .dataframe tbody tr th:only-of-type {\n",
       "        vertical-align: middle;\n",
       "    }\n",
       "\n",
       "    .dataframe tbody tr th {\n",
       "        vertical-align: top;\n",
       "    }\n",
       "\n",
       "    .dataframe thead th {\n",
       "        text-align: right;\n",
       "    }\n",
       "</style>\n",
       "<table border=\"1\" class=\"dataframe\">\n",
       "  <thead>\n",
       "    <tr style=\"text-align: right;\">\n",
       "      <th></th>\n",
       "      <th>ADMINISTERING_IC</th>\n",
       "      <th>FY</th>\n",
       "      <th>IC_NAME</th>\n",
       "      <th>PROJECT_TITLE</th>\n",
       "      <th>IC_NUM</th>\n",
       "    </tr>\n",
       "  </thead>\n",
       "  <tbody>\n",
       "    <tr>\n",
       "      <th>0</th>\n",
       "      <td>MH</td>\n",
       "      <td>2017</td>\n",
       "      <td>NATIONAL INSTITUTE OF MENTAL HEALTH</td>\n",
       "      <td>Autism Genetics, Phase II: Increasing Represen...</td>\n",
       "      <td>0</td>\n",
       "    </tr>\n",
       "    <tr>\n",
       "      <th>1</th>\n",
       "      <td>CA</td>\n",
       "      <td>2017</td>\n",
       "      <td>NATIONAL CANCER INSTITUTE</td>\n",
       "      <td>The Role of the Microenvironment in Barrett's ...</td>\n",
       "      <td>1</td>\n",
       "    </tr>\n",
       "    <tr>\n",
       "      <th>2</th>\n",
       "      <td>ES</td>\n",
       "      <td>2017</td>\n",
       "      <td>NATIONAL INSTITUTE OF ENVIRONMENTAL HEALTH SCI...</td>\n",
       "      <td>Low-Cost Catalytic Biomass Cookstove for Impro...</td>\n",
       "      <td>2</td>\n",
       "    </tr>\n",
       "    <tr>\n",
       "      <th>3</th>\n",
       "      <td>GM</td>\n",
       "      <td>2017</td>\n",
       "      <td>NATIONAL INSTITUTE OF GENERAL MEDICAL SCIENCES</td>\n",
       "      <td>Surgical Wound Closure Matrices for the Preven...</td>\n",
       "      <td>3</td>\n",
       "    </tr>\n",
       "    <tr>\n",
       "      <th>4</th>\n",
       "      <td>CA</td>\n",
       "      <td>2017</td>\n",
       "      <td>NATIONAL CANCER INSTITUTE</td>\n",
       "      <td>LRBGE Optical Microscopy Core</td>\n",
       "      <td>1</td>\n",
       "    </tr>\n",
       "  </tbody>\n",
       "</table>\n",
       "</div>"
      ],
      "text/plain": [
       "  ADMINISTERING_IC    FY                                            IC_NAME  \\\n",
       "0               MH  2017                NATIONAL INSTITUTE OF MENTAL HEALTH   \n",
       "1               CA  2017                          NATIONAL CANCER INSTITUTE   \n",
       "2               ES  2017  NATIONAL INSTITUTE OF ENVIRONMENTAL HEALTH SCI...   \n",
       "3               GM  2017     NATIONAL INSTITUTE OF GENERAL MEDICAL SCIENCES   \n",
       "4               CA  2017                          NATIONAL CANCER INSTITUTE   \n",
       "\n",
       "                                       PROJECT_TITLE  IC_NUM  \n",
       "0  Autism Genetics, Phase II: Increasing Represen...       0  \n",
       "1  The Role of the Microenvironment in Barrett's ...       1  \n",
       "2  Low-Cost Catalytic Biomass Cookstove for Impro...       2  \n",
       "3  Surgical Wound Closure Matrices for the Preven...       3  \n",
       "4                      LRBGE Optical Microscopy Core       1  "
      ]
     },
     "execution_count": 23,
     "metadata": {},
     "output_type": "execute_result"
    }
   ],
   "source": [
    "# set the labels\n",
    "df['IC_NUM'] = df['ADMINISTERING_IC'].factorize()[0]\n",
    "df.head()"
   ]
  },
  {
   "cell_type": "code",
   "execution_count": 24,
   "metadata": {},
   "outputs": [
    {
     "data": {
      "text/plain": [
       "{0: 'NATIONAL INSTITUTE OF MENTAL HEALTH',\n",
       " 1: 'NATIONAL CANCER INSTITUTE',\n",
       " 2: 'NATIONAL INSTITUTE OF ENVIRONMENTAL HEALTH SCIENCES',\n",
       " 3: 'NATIONAL INSTITUTE OF GENERAL MEDICAL SCIENCES',\n",
       " 4: 'NATIONAL INSTITUTE OF NEUROLOGICAL DISORDERS AND STROKE',\n",
       " 5: 'NATIONAL INSTITUTE ON AGING',\n",
       " 6: 'NATIONAL HEART, LUNG, AND BLOOD INSTITUTE',\n",
       " 7: 'NATIONAL INSTITUTE OF DIABETES AND DIGESTIVE AND KIDNEY DISEASES',\n",
       " 8: 'EUNICE KENNEDY SHRIVER NATIONAL INSTITUTE OF CHILD HEALTH & HUMAN DEVELOPMENT',\n",
       " 9: 'NATIONAL EYE INSTITUTE',\n",
       " 10: 'NATIONAL INSTITUTE ON DRUG ABUSE',\n",
       " 11: 'NATIONAL INSTITUTE OF ALLERGY AND INFECTIOUS DISEASES',\n",
       " 12: 'NATIONAL INSTITUTE OF ARTHRITIS AND MUSCULOSKELETAL AND SKIN DISEASES'}"
      ]
     },
     "execution_count": 24,
     "metadata": {},
     "output_type": "execute_result"
    }
   ],
   "source": [
    "# create a map of IC num to name for later reference\n",
    "ic_name_map = {num:name for num, name in df[['IC_NUM','IC_NAME']].drop_duplicates().values}\n",
    "ic_name_map"
   ]
  },
  {
   "cell_type": "markdown",
   "metadata": {},
   "source": [
    "### Preprocess data and create Train/Test splits"
   ]
  },
  {
   "cell_type": "code",
   "execution_count": 25,
   "metadata": {},
   "outputs": [],
   "source": [
    "# separate the features and response\n",
    "X = df['PROJECT_TITLE']\n",
    "y = df['IC_NUM']"
   ]
  },
  {
   "cell_type": "code",
   "execution_count": 26,
   "metadata": {},
   "outputs": [
    {
     "name": "stdout",
     "output_type": "stream",
     "text": [
      "Autism Genetics, Phase II: Increasing Representation of Human Diversity\n",
      "['autism', 'genetics', 'phase', 'ii', 'increasing', 'representation', 'of', 'human', 'diversity']\n",
      "autism genetics phase ii increasing representation of human diversity\n",
      "\n",
      "The Role of the Microenvironment in Barrett's Esophagus\n",
      "['the', 'role', 'of', 'the', 'in', 'barrett', 'esophagus']\n",
      "the role of the in barrett esophagus\n",
      "\n",
      "Low-Cost Catalytic Biomass Cookstove for Improved Indoor Air Quality\n",
      "['low', 'cost', 'catalytic', 'biomass', 'cookstove', 'for', 'improved', 'indoor', 'air', 'quality']\n",
      "low cost catalytic biomass cookstove for improved indoor air quality\n",
      "\n",
      "Surgical Wound Closure Matrices for the Prevention of Superficial Incisional SSI\n",
      "['surgical', 'wound', 'closure', 'matrices', 'for', 'the', 'prevention', 'of', 'superficial', 'incisional', 'ssi']\n",
      "surgical wound closure matrices for the prevention of superficial incisional ssi\n",
      "\n",
      "LRBGE Optical Microscopy Core\n",
      "['lrbge', 'optical', 'microscopy', 'core']\n",
      "lrbge optical microscopy core\n",
      "\n"
     ]
    }
   ],
   "source": [
    "# use gensim to preprocess text \n",
    "\n",
    "for title in X[0:5]:\n",
    "    clean_title_tokens = simple_preprocess(title)\n",
    "    clean_title = ' '.join(clean_title_tokens)\n",
    "    \n",
    "    print(title)\n",
    "    print(clean_title_tokens)\n",
    "    print(clean_title)\n",
    "    print()"
   ]
  },
  {
   "cell_type": "code",
   "execution_count": 27,
   "metadata": {},
   "outputs": [],
   "source": [
    "# use gensim to preprocess text \n",
    "\n",
    "def preprocess_text(text):\n",
    "    \"\"\" use gensim simple_preprocess to tokenize text. Join results back into a clean text string\n",
    "    \n",
    "    :param text: string, text to preprocess\n",
    "    \"\"\"\n",
    "    \n",
    "    clean_tokens = simple_preprocess(text)\n",
    "    clean_text = ' '.join(clean_tokens)\n",
    "    \n",
    "    return clean_text\n",
    "\n",
    "\n",
    "X = X.apply(lambda x: preprocess_text(x))"
   ]
  },
  {
   "cell_type": "code",
   "execution_count": 29,
   "metadata": {},
   "outputs": [
    {
     "data": {
      "text/plain": [
       "1     0.185889\n",
       "11    0.126201\n",
       "3     0.123637\n",
       "6     0.105211\n",
       "7     0.082308\n",
       "4     0.074812\n",
       "5     0.064013\n",
       "0     0.057277\n",
       "8     0.054995\n",
       "10    0.041871\n",
       "9     0.029486\n",
       "2     0.028617\n",
       "12    0.025683\n",
       "Name: IC_NUM, dtype: float64"
      ]
     },
     "execution_count": 29,
     "metadata": {},
     "output_type": "execute_result"
    }
   ],
   "source": [
    "# Create train test splits\n",
    "\n",
    "from sklearn.model_selection import train_test_split\n",
    "\n",
    "# create train test split\n",
    "X_train, X_test, y_train, y_test = train_test_split(X, y, shuffle=True, stratify=y, random_state=42)\n",
    "\n",
    "y_train.value_counts(normalize=True)"
   ]
  },
  {
   "cell_type": "markdown",
   "metadata": {},
   "source": [
    "##### Explore Data"
   ]
  },
  {
   "cell_type": "code",
   "execution_count": 33,
   "metadata": {},
   "outputs": [
    {
     "data": {
      "text/plain": [
       "count    46022.000000\n",
       "mean        60.746860\n",
       "std         25.154798\n",
       "min          0.000000\n",
       "25%         44.000000\n",
       "50%         60.000000\n",
       "75%         76.000000\n",
       "max        199.000000\n",
       "Name: PROJECT_TITLE, dtype: float64"
      ]
     },
     "execution_count": 33,
     "metadata": {},
     "output_type": "execute_result"
    }
   ],
   "source": [
    "# view the distribution of words in a project title\n",
    "X_train.apply(len).describe()"
   ]
  },
  {
   "cell_type": "markdown",
   "metadata": {},
   "source": [
    "# Keras"
   ]
  },
  {
   "cell_type": "code",
   "execution_count": 42,
   "metadata": {},
   "outputs": [
    {
     "name": "stderr",
     "output_type": "stream",
     "text": [
      "C:\\Users\\alsherman\\AppData\\Local\\Continuum\\miniconda3\\envs\\guild\\lib\\site-packages\\IPython\\core\\display.py:689: UserWarning: Consider using IPython.display.IFrame instead\n",
      "  warnings.warn(\"Consider using IPython.display.IFrame instead\")\n"
     ]
    },
    {
     "data": {
      "text/html": [
       "<iframe src=https://keras.io/ width=1100 height=600></iframe>"
      ],
      "text/plain": [
       "<IPython.core.display.HTML object>"
      ]
     },
     "execution_count": 42,
     "metadata": {},
     "output_type": "execute_result"
    }
   ],
   "source": [
    "sqlalchemy_url = 'https://keras.io/'\n",
    "iframe = '<iframe src={} width=1100 height=600></iframe>'.format(sqlalchemy_url)\n",
    "HTML(iframe)"
   ]
  },
  {
   "cell_type": "code",
   "execution_count": 47,
   "metadata": {},
   "outputs": [
    {
     "data": {
      "image/png": "[encoded data removed]",
      "text/plain": [
       "<IPython.core.display.Image object>"
      ]
     },
     "execution_count": 47,
     "metadata": {
      "image/png": {
       "height": 700,
       "width": 700
      }
     },
     "output_type": "execute_result"
    }
   ],
   "source": [
    "# Keras rankings\n",
    "Image(\"../../raw_data/images/dl_frameworks_power_scores.png\", width=700, height=700)"
   ]
  },
  {
   "cell_type": "markdown",
   "metadata": {},
   "source": [
    "# Document Classification with Deep Learning Approach\n",
    "\n",
    "#### 1. convert all text samples in the dataset into sequences of word indices. \n",
    "- A \"word index\" would simply be an integer ID for the word. \n",
    "- We will only consider the top N most commonly occuring words in the dataset, and we will truncate the sequences to a defined maximum length of words.\n",
    "\n",
    "#### 2. prepare an \"embedding matrix\" which will contain at index i the embedding vector for the word of index i in our word index.\n",
    "\n",
    "\n",
    "#### 3. load this embedding matrix into a Keras Embedding layer, set to be frozen \n",
    "- its weights, the embedding vectors, will not be updated during training.\n",
    "\n",
    "\n",
    "#### 4. build a deep learning model (e.g. CNN, RNN), ending in a softmax output.\n",
    "\n",
    "\n",
    "\n",
    "SOURCE: https://blog.keras.io/using-pre-trained-word-embeddings-in-a-keras-model.html"
   ]
  },
  {
   "cell_type": "markdown",
   "metadata": {},
   "source": [
    "# 1. convert all text samples in the dataset into sequences of word indices. "
   ]
  },
  {
   "cell_type": "code",
   "execution_count": 48,
   "metadata": {},
   "outputs": [
    {
     "data": {
      "text/plain": [
       "13"
      ]
     },
     "execution_count": 48,
     "metadata": {},
     "output_type": "execute_result"
    }
   ],
   "source": [
    "# get a count of the number of possible categories to predict\n",
    "num_classes = len(set(y_train))\n",
    "num_classes"
   ]
  },
  {
   "cell_type": "code",
   "execution_count": 49,
   "metadata": {},
   "outputs": [
    {
     "data": {
      "text/plain": [
       "array([[0., 1., 0., ..., 0., 0., 0.],\n",
       "       [0., 0., 0., ..., 0., 0., 0.],\n",
       "       [0., 0., 0., ..., 0., 0., 0.],\n",
       "       ...,\n",
       "       [1., 0., 0., ..., 0., 0., 0.],\n",
       "       [0., 1., 0., ..., 0., 0., 0.],\n",
       "       [0., 1., 0., ..., 0., 0., 0.]], dtype=float32)"
      ]
     },
     "execution_count": 49,
     "metadata": {},
     "output_type": "execute_result"
    }
   ],
   "source": [
    "# convert the training and testing dataset\n",
    "y_train_array = to_categorical(y_train, num_classes)\n",
    "y_test_array = to_categorical(y_test, num_classes)\n",
    "\n",
    "# each label is one-hot encoded into a vector of size num_classes\n",
    "y_train_array"
   ]
  },
  {
   "cell_type": "markdown",
   "metadata": {},
   "source": [
    "### Keras Tokenizer"
   ]
  },
  {
   "cell_type": "code",
   "execution_count": 50,
   "metadata": {},
   "outputs": [],
   "source": [
    "# prepare tokenizer\n",
    "MAX_NUM_WORDS = 25000\n",
    "\n",
    "tokenizer = Tokenizer(num_words=MAX_NUM_WORDS)"
   ]
  },
  {
   "cell_type": "code",
   "execution_count": 51,
   "metadata": {},
   "outputs": [
    {
     "name": "stdout",
     "output_type": "stream",
     "text": [
      "['__class__', '__delattr__', '__dict__', '__dir__', '__doc__', '__eq__', '__format__', '__ge__', '__getattribute__', '__gt__', '__hash__', '__init__', '__init_subclass__', '__le__', '__lt__', '__module__', '__ne__', '__new__', '__reduce__', '__reduce_ex__', '__repr__', '__setattr__', '__sizeof__', '__str__', '__subclasshook__', '__weakref__', 'char_level', 'document_count', 'filters', 'fit_on_sequences', 'fit_on_texts', 'get_config', 'index_docs', 'index_word', 'lower', 'num_words', 'oov_token', 'sequences_to_matrix', 'sequences_to_texts', 'sequences_to_texts_generator', 'split', 'texts_to_matrix', 'texts_to_sequences', 'texts_to_sequences_generator', 'to_json', 'word_counts', 'word_docs', 'word_index']\n"
     ]
    }
   ],
   "source": [
    "print(dir(tokenizer))"
   ]
  },
  {
   "cell_type": "code",
   "execution_count": 52,
   "metadata": {},
   "outputs": [],
   "source": [
    "# Signature: t.fit_on_texts(texts)\n",
    "tokenizer.fit_on_texts(X_train)"
   ]
  },
  {
   "cell_type": "markdown",
   "metadata": {},
   "source": [
    "##### Example what the tokenizer has learned from the text"
   ]
  },
  {
   "cell_type": "code",
   "execution_count": 53,
   "metadata": {},
   "outputs": [
    {
     "data": {
      "text/plain": [
       "46022"
      ]
     },
     "execution_count": 53,
     "metadata": {},
     "output_type": "execute_result"
    }
   ],
   "source": [
    "tokenizer.document_count"
   ]
  },
  {
   "cell_type": "code",
   "execution_count": 63,
   "metadata": {},
   "outputs": [
    {
     "data": {
      "text/plain": [
       "20439"
      ]
     },
     "execution_count": 63,
     "metadata": {},
     "output_type": "execute_result"
    }
   ],
   "source": [
    "vocab_size = len(tokenizer.word_index) + 1\n",
    "vocab_size"
   ]
  },
  {
   "cell_type": "code",
   "execution_count": 58,
   "metadata": {},
   "outputs": [
    {
     "data": {
      "text/plain": [
       "[('determining', 79),\n",
       " ('the', 8779),\n",
       " ('role', 2315),\n",
       " ('of', 22665),\n",
       " ('dnmt', 9),\n",
       " ('interacting', 21),\n",
       " ('rnas', 83),\n",
       " ('in', 15958),\n",
       " ('myeloid', 91),\n",
       " ('disorders', 353)]"
      ]
     },
     "execution_count": 58,
     "metadata": {},
     "output_type": "execute_result"
    }
   ],
   "source": [
    "# get word counts that the tokenizer learned\n",
    "list(tokenizer.word_counts.items())[0:10]"
   ]
  },
  {
   "cell_type": "code",
   "execution_count": 59,
   "metadata": {},
   "outputs": [
    {
     "data": {
      "text/plain": [
       "[('of', 22665),\n",
       " ('and', 17661),\n",
       " ('in', 15958),\n",
       " ('the', 8779),\n",
       " ('for', 7141),\n",
       " ('to', 4392),\n",
       " ('core', 3996),\n",
       " ('cancer', 3021),\n",
       " ('cell', 2685),\n",
       " ('research', 2425)]"
      ]
     },
     "execution_count": 59,
     "metadata": {},
     "output_type": "execute_result"
    }
   ],
   "source": [
    "# view the most common words\n",
    "sorted(tokenizer.word_counts.items(), key=lambda x: x[1], reverse=True)[0:10]"
   ]
  },
  {
   "cell_type": "code",
   "execution_count": 60,
   "metadata": {},
   "outputs": [
    {
     "data": {
      "text/plain": [
       "[('role', 2315),\n",
       " ('of', 20429),\n",
       " ('interacting', 21),\n",
       " ('disorders', 353),\n",
       " ('in', 15331),\n",
       " ('determining', 79),\n",
       " ('rnas', 83),\n",
       " ('the', 7864),\n",
       " ('dnmt', 9),\n",
       " ('myeloid', 91)]"
      ]
     },
     "execution_count": 60,
     "metadata": {},
     "output_type": "execute_result"
    }
   ],
   "source": [
    "# get counts of in how many documents each token exists\n",
    "list(tokenizer.word_docs.items())[0:10]"
   ]
  },
  {
   "cell_type": "code",
   "execution_count": 61,
   "metadata": {
    "scrolled": true
   },
   "outputs": [
    {
     "data": {
      "text/plain": [
       "[('of', 1),\n",
       " ('and', 2),\n",
       " ('in', 3),\n",
       " ('the', 4),\n",
       " ('for', 5),\n",
       " ('to', 6),\n",
       " ('core', 7),\n",
       " ('cancer', 8),\n",
       " ('cell', 9),\n",
       " ('research', 10)]"
      ]
     },
     "execution_count": 61,
     "metadata": {},
     "output_type": "execute_result"
    }
   ],
   "source": [
    "# get a word to index mapping\n",
    "list(tokenizer.word_index.items())[0:10]"
   ]
  },
  {
   "cell_type": "code",
   "execution_count": 62,
   "metadata": {},
   "outputs": [
    {
     "data": {
      "text/plain": [
       "[(1, 'of'),\n",
       " (2, 'and'),\n",
       " (3, 'in'),\n",
       " (4, 'the'),\n",
       " (5, 'for'),\n",
       " (6, 'to'),\n",
       " (7, 'core'),\n",
       " (8, 'cancer'),\n",
       " (9, 'cell'),\n",
       " (10, 'research')]"
      ]
     },
     "execution_count": 62,
     "metadata": {},
     "output_type": "execute_result"
    }
   ],
   "source": [
    "# get a index to word mapping\n",
    "list(tokenizer.index_word.items())[0:10]"
   ]
  },
  {
   "cell_type": "markdown",
   "metadata": {},
   "source": [
    "##### convert the sentences to a sequence of token ids"
   ]
  },
  {
   "cell_type": "code",
   "execution_count": 64,
   "metadata": {},
   "outputs": [
    {
     "name": "stdout",
     "output_type": "stream",
     "text": [
      "10516    determining the role of dnmt interacting rnas ...\n",
      "65466                                      morphology core\n",
      "57760    cognitive and neural moderators of longitudina...\n",
      "50413    exploiting mutant idh induced homologous recom...\n",
      "53219    analysis of intracellular host defenses in sal...\n",
      "Name: PROJECT_TITLE, dtype: object\n"
     ]
    },
    {
     "data": {
      "text/plain": [
       "[[688, 4, 12, 1, 3690, 2063, 660, 3, 599, 134],\n",
       " [1367, 7],\n",
       " [98, 2, 67, 3691, 1, 311, 761, 3, 1935, 611],\n",
       " [1231, 554, 1989, 48, 2409, 820, 717, 3, 8],\n",
       " [34, 1, 798, 122, 2919, 3, 1173, 97]]"
      ]
     },
     "execution_count": 64,
     "metadata": {},
     "output_type": "execute_result"
    }
   ],
   "source": [
    "encoded_docs = tokenizer.texts_to_sequences(X_train)\n",
    "print(X_train[0:5])\n",
    "encoded_docs[0:5]"
   ]
  },
  {
   "cell_type": "markdown",
   "metadata": {},
   "source": [
    "##### pad the sequences to make the matrix size consistent"
   ]
  },
  {
   "cell_type": "code",
   "execution_count": 65,
   "metadata": {},
   "outputs": [
    {
     "name": "stdout",
     "output_type": "stream",
     "text": [
      "[[ 688    4   12    1 3690 2063  660    3  599  134]\n",
      " [1367    7    0    0    0    0    0    0    0    0]\n",
      " [  98    2   67 3691    1  311  761    3 1935  611]\n",
      " [1231  554 1989   48 2409  820  717    3    8    0]\n",
      " [  34    1  798  122 2919    3 1173   97    0    0]]\n"
     ]
    }
   ],
   "source": [
    "# pad documents to a max length of 10 words\n",
    "\n",
    "MAX_SEQ_LENGTH = 10\n",
    "padded_docs = pad_sequences(encoded_docs, maxlen=MAX_SEQ_LENGTH, padding='post')\n",
    "print(padded_docs[0:5])"
   ]
  },
  {
   "cell_type": "code",
   "execution_count": 66,
   "metadata": {},
   "outputs": [],
   "source": [
    "# encode both train and test data (only learn from the training data)\n",
    "\n",
    "def encode_text(text):\n",
    "    \"\"\" convert an array of text into a series of padded token interger-ids \n",
    "    \n",
    "    :param text: series, text to tokenize and pad with 0's\n",
    "    \"\"\"\n",
    "    \n",
    "    encoded_docs = tokenizer.texts_to_sequences(text)\n",
    "    padded_docs = pad_sequences(encoded_docs, maxlen=MAX_SEQ_LENGTH, padding='post')    \n",
    "    \n",
    "    return padded_docs\n",
    "\n",
    "\n",
    "X_train_sequence = encode_text(X_train)\n",
    "X_test_sequence = encode_text(X_test)"
   ]
  },
  {
   "cell_type": "markdown",
   "metadata": {},
   "source": [
    "# 2. prepare an \"embedding matrix\" which will contain at index i the embedding vector for the word of index i in our word index."
   ]
  },
  {
   "cell_type": "markdown",
   "metadata": {},
   "source": [
    "### Download pre-trained embeddings\n",
    "\n",
    "##### GLOVE\n",
    "- GLoVE - Global Vectors for Word Representation: https://nlp.stanford.edu/projects/glove/\n",
    "- Publication: https://nlp.stanford.edu/pubs/glove.pdf"
   ]
  },
  {
   "cell_type": "code",
   "execution_count": 67,
   "metadata": {},
   "outputs": [
    {
     "name": "stdout",
     "output_type": "stream",
     "text": [
      " Volume in drive C is OSDisk\n",
      " Volume Serial Number is 1E90-A1EF\n",
      "\n",
      " Directory of C:\\Users\\alsherman\\Desktop\\NLP\\nlp_practicum_cohort3\\lessons\\lesson_6_deep_learning_for_nlp\n",
      "\n",
      "05/27/2019  10:41 AM    <DIR>          .\n",
      "05/27/2019  10:41 AM    <DIR>          ..\n",
      "05/24/2019  09:35 PM    <DIR>          .ipynb_checkpoints\n",
      "05/26/2019  05:12 PM     1,341,997,858 biomedicalWordVectors.tar.gz\n",
      "05/27/2019  10:41 AM           312,270 Deep Learning for NLP.ipynb\n",
      "08/04/2014  01:14 PM       347,116,733 glove.6B.100d.txt\n",
      "08/04/2014  01:14 PM       693,432,828 glove.6B.200d.txt\n",
      "08/27/2014  12:19 PM     1,037,962,819 glove.6B.300d.txt\n",
      "08/04/2014  01:15 PM       171,350,079 glove.6B.50d.txt\n",
      "05/14/2019  12:19 AM       862,182,613 glove.6B.zip\n",
      "10/24/2015  10:35 AM     5,646,236,541 glove.840B.300d.txt\n",
      "05/26/2019  02:21 PM     2,176,768,927 glove.840B.300d.zip\n",
      "05/26/2019  08:46 PM     3,985,791,418 pubmed2018_w2v_400D.tar.gz\n",
      "05/26/2019  08:50 PM     4,416,560,851 wikipedia-pubmed-and-PMC-w2v.bin\n",
      "05/26/2019  05:17 PM    <DIR>          word2vecTools\n",
      "              11 File(s) 20,679,712,937 bytes\n",
      "               4 Dir(s)  126,720,376,832 bytes free\n"
     ]
    }
   ],
   "source": [
    "%ls"
   ]
  },
  {
   "cell_type": "code",
   "execution_count": 68,
   "metadata": {},
   "outputs": [],
   "source": [
    "# Glove Word Embeddings\n",
    "GLOVE_DIR = os.path.join('TODO', 'glove.6B.50d.txt') \n",
    "GLOVE_DIR = 'glove.6B.50d.txt' "
   ]
  },
  {
   "cell_type": "code",
   "execution_count": 69,
   "metadata": {},
   "outputs": [
    {
     "name": "stdout",
     "output_type": "stream",
     "text": [
      "the 0.418 0.24968 -0.41242 0.1217 0.34527 -0.044457 -0.49688 -0.17862 -0.00066023 -0.6566 0.27843 -0.14767 -0.55677 0.14658 -0.0095095 0.011658 0.10204 -0.12792 -0.8443 -0.12181 -0.016801 -0.33279 -0.1552 -0.23131 -0.19181 -1.8823 -0.76746 0.099051 -0.42125 -0.19526 4.0071 -0.18594 -0.52287 -0.31681 0.00059213 0.0074449 0.17778 -0.15897 0.012041 -0.054223 -0.29871 -0.15749 -0.34758 -0.045637 -0.44251 0.18785 0.0027849 -0.18411 -0.11514 -0.78581\n",
      " \n",
      "\n"
     ]
    }
   ],
   "source": [
    "with open(GLOVE_DIR) as f:\n",
    "    for line in f:\n",
    "        print(line, '\\n')\n",
    "        break"
   ]
  },
  {
   "cell_type": "code",
   "execution_count": 70,
   "metadata": {},
   "outputs": [
    {
     "name": "stdout",
     "output_type": "stream",
     "text": [
      "WORD: the\n",
      "\n",
      "EMBEDDING: [ 4.1800e-01  2.4968e-01 -4.1242e-01  1.2170e-01  3.4527e-01 -4.4457e-02\n",
      " -4.9688e-01 -1.7862e-01 -6.6023e-04 -6.5660e-01  2.7843e-01 -1.4767e-01\n",
      " -5.5677e-01  1.4658e-01 -9.5095e-03  1.1658e-02  1.0204e-01 -1.2792e-01\n",
      " -8.4430e-01 -1.2181e-01 -1.6801e-02 -3.3279e-01 -1.5520e-01 -2.3131e-01\n",
      " -1.9181e-01 -1.8823e+00 -7.6746e-01  9.9051e-02 -4.2125e-01 -1.9526e-01\n",
      "  4.0071e+00 -1.8594e-01 -5.2287e-01 -3.1681e-01  5.9213e-04  7.4449e-03\n",
      "  1.7778e-01 -1.5897e-01  1.2041e-02 -5.4223e-02 -2.9871e-01 -1.5749e-01\n",
      " -3.4758e-01 -4.5637e-02 -4.4251e-01  1.8785e-01  2.7849e-03 -1.8411e-01\n",
      " -1.1514e-01 -7.8581e-01]\n"
     ]
    }
   ],
   "source": [
    "# iterate and extract the embeddings\n",
    "\n",
    "with open(GLOVE_DIR, 'rb') as f:\n",
    "\n",
    "    for line in f:\n",
    "        # separate the word from the embedding\n",
    "        values = line.split()\n",
    "        word = values[0].decode('utf-8')  # decode bytes to unicode\n",
    "        embedding = np.asarray(values[1:], dtype='float32')\n",
    "\n",
    "        # print the results\n",
    "        print(f'WORD: {word}\\n')\n",
    "        print(f'EMBEDDING: {embedding}')\n",
    "\n",
    "        break"
   ]
  },
  {
   "cell_type": "code",
   "execution_count": 71,
   "metadata": {},
   "outputs": [
    {
     "name": "stdout",
     "output_type": "stream",
     "text": [
      "{'the': array([ 4.1800e-01,  2.4968e-01, -4.1242e-01,  1.2170e-01,  3.4527e-01,\n",
      "       -4.4457e-02, -4.9688e-01, -1.7862e-01, -6.6023e-04, -6.5660e-01,\n",
      "        2.7843e-01, -1.4767e-01, -5.5677e-01,  1.4658e-01, -9.5095e-03,\n",
      "        1.1658e-02,  1.0204e-01, -1.2792e-01, -8.4430e-01, -1.2181e-01,\n",
      "       -1.6801e-02, -3.3279e-01, -1.5520e-01, -2.3131e-01, -1.9181e-01,\n",
      "       -1.8823e+00, -7.6746e-01,  9.9051e-02, -4.2125e-01, -1.9526e-01,\n",
      "        4.0071e+00, -1.8594e-01, -5.2287e-01, -3.1681e-01,  5.9213e-04,\n",
      "        7.4449e-03,  1.7778e-01, -1.5897e-01,  1.2041e-02, -5.4223e-02,\n",
      "       -2.9871e-01, -1.5749e-01, -3.4758e-01, -4.5637e-02, -4.4251e-01,\n",
      "        1.8785e-01,  2.7849e-03, -1.8411e-01, -1.1514e-01, -7.8581e-01],\n",
      "      dtype=float32)}\n"
     ]
    }
   ],
   "source": [
    "# Store all embeddings {'token': n-dimensional embedding_series}\n",
    "\n",
    "embeddings_index = {}\n",
    "\n",
    "with open(GLOVE_DIR, 'rb') as f:\n",
    "    for line in f:\n",
    "        values = line.split()\n",
    "        word = values[0].decode('utf-8')\n",
    "        embedding = np.asarray(values[1:], dtype='float32')\n",
    "\n",
    "        # store the embeddings in a dict\n",
    "        embeddings_index[word] = embedding\n",
    "        \n",
    "        print(embeddings_index)\n",
    "        break"
   ]
  },
  {
   "cell_type": "code",
   "execution_count": 72,
   "metadata": {},
   "outputs": [
    {
     "name": "stdout",
     "output_type": "stream",
     "text": [
      "Found 400000 word vectors.\n",
      "Wall time: 14.9 s\n"
     ]
    }
   ],
   "source": [
    "%%time\n",
    "\n",
    "# Store all embeddings {'token': n-dimensional embedding_series}\n",
    "embeddings_index = {}\n",
    "\n",
    "with open(GLOVE_DIR, 'rb') as f:\n",
    "    for line in f:\n",
    "        values = line.split()\n",
    "        word = values[0].decode('utf-8')\n",
    "        embedding = np.asarray(values[1:], dtype='float32')\n",
    "        embeddings_index[word] = embedding\n",
    "\n",
    "print(f'Found {len(embeddings_index)} word vectors.')"
   ]
  },
  {
   "cell_type": "markdown",
   "metadata": {},
   "source": [
    "##### View the stored embeddings"
   ]
  },
  {
   "cell_type": "code",
   "execution_count": 73,
   "metadata": {},
   "outputs": [
    {
     "data": {
      "text/plain": [
       "array([ 4.1800e-01,  2.4968e-01, -4.1242e-01,  1.2170e-01,  3.4527e-01,\n",
       "       -4.4457e-02, -4.9688e-01, -1.7862e-01, -6.6023e-04, -6.5660e-01,\n",
       "        2.7843e-01, -1.4767e-01, -5.5677e-01,  1.4658e-01, -9.5095e-03,\n",
       "        1.1658e-02,  1.0204e-01, -1.2792e-01, -8.4430e-01, -1.2181e-01,\n",
       "       -1.6801e-02, -3.3279e-01, -1.5520e-01, -2.3131e-01, -1.9181e-01,\n",
       "       -1.8823e+00, -7.6746e-01,  9.9051e-02, -4.2125e-01, -1.9526e-01,\n",
       "        4.0071e+00, -1.8594e-01, -5.2287e-01, -3.1681e-01,  5.9213e-04,\n",
       "        7.4449e-03,  1.7778e-01, -1.5897e-01,  1.2041e-02, -5.4223e-02,\n",
       "       -2.9871e-01, -1.5749e-01, -3.4758e-01, -4.5637e-02, -4.4251e-01,\n",
       "        1.8785e-01,  2.7849e-03, -1.8411e-01, -1.1514e-01, -7.8581e-01],\n",
       "      dtype=float32)"
      ]
     },
     "execution_count": 73,
     "metadata": {},
     "output_type": "execute_result"
    }
   ],
   "source": [
    "embeddings_index['the']"
   ]
  },
  {
   "cell_type": "markdown",
   "metadata": {},
   "source": [
    "##### Test out other words to see if a pre-trained embedding exists"
   ]
  },
  {
   "cell_type": "code",
   "execution_count": 74,
   "metadata": {},
   "outputs": [
    {
     "data": {
      "text/plain": [
       "array([-0.1643   ,  0.15722  , -0.55021  , -0.3303   ,  0.66463  ,\n",
       "       -0.1152   , -0.2261   , -0.23674  , -0.86119  ,  0.24319  ,\n",
       "        0.074499 ,  0.61081  ,  0.73683  , -0.35224  ,  0.61346  ,\n",
       "        0.0050975, -0.62538  , -0.0050458,  0.18392  , -0.12214  ,\n",
       "       -0.65973  , -0.30673  ,  0.35038  ,  0.75805  ,  1.0183   ,\n",
       "       -1.7424   , -1.4277   ,  0.38032  ,  0.37713  , -0.74941  ,\n",
       "        2.9401   , -0.8097   , -0.66901  ,  0.23123  , -0.073194 ,\n",
       "       -0.13624  ,  0.24424  , -1.0129   , -0.24919  , -0.06893  ,\n",
       "        0.70231  , -0.022177 , -0.64684  ,  0.59599  ,  0.027092 ,\n",
       "        0.11203  ,  0.61214  ,  0.74339  ,  0.23572  , -0.1369   ],\n",
       "      dtype=float32)"
      ]
     },
     "execution_count": 74,
     "metadata": {},
     "output_type": "execute_result"
    }
   ],
   "source": [
    "word = \"word\" # test out new words in the quotes (capitalization sensitive)\n",
    "\n",
    "embeddings_index[word]"
   ]
  },
  {
   "cell_type": "markdown",
   "metadata": {},
   "source": [
    "##### Determine if the words learned from the tokenizer have existing embeddings"
   ]
  },
  {
   "cell_type": "code",
   "execution_count": 75,
   "metadata": {},
   "outputs": [
    {
     "data": {
      "text/plain": [
       "[(1, 'of'),\n",
       " (2, 'and'),\n",
       " (3, 'in'),\n",
       " (4, 'the'),\n",
       " (5, 'for'),\n",
       " (6, 'to'),\n",
       " (7, 'core'),\n",
       " (8, 'cancer'),\n",
       " (9, 'cell'),\n",
       " (10, 'research')]"
      ]
     },
     "execution_count": 75,
     "metadata": {},
     "output_type": "execute_result"
    }
   ],
   "source": [
    "list(tokenizer.index_word.items())[0:10]"
   ]
  },
  {
   "cell_type": "code",
   "execution_count": 76,
   "metadata": {},
   "outputs": [
    {
     "name": "stdout",
     "output_type": "stream",
     "text": [
      "of\n",
      "[ 0.70853    0.57088   -0.4716     0.18048    0.54449    0.72603\n",
      "  0.18157   -0.52393    0.10381   -0.17566    0.078852  -0.36216\n",
      " -0.11829   -0.83336    0.11917   -0.16605    0.061555  -0.012719\n",
      " -0.56623    0.013616   0.22851   -0.14396   -0.067549  -0.38157\n",
      " -0.23698   -1.7037    -0.86692   -0.26704   -0.2589     0.1767\n",
      "  3.8676    -0.1613    -0.13273   -0.68881    0.18444    0.0052464\n",
      " -0.33874   -0.078956   0.24185    0.36576   -0.34727    0.28483\n",
      "  0.075693  -0.062178  -0.38988    0.22902   -0.21617   -0.22562\n",
      " -0.093918  -0.80375  ] \n",
      "\n",
      "and\n",
      "[ 0.26818   0.14346  -0.27877   0.016257  0.11384   0.69923  -0.51332\n",
      " -0.47368  -0.33075  -0.13834   0.2702    0.30938  -0.45012  -0.4127\n",
      " -0.09932   0.038085  0.029749  0.10076  -0.25058  -0.51818   0.34558\n",
      "  0.44922   0.48791  -0.080866 -0.10121  -1.3777   -0.10866  -0.23201\n",
      "  0.012839 -0.46508   3.8463    0.31362   0.13643  -0.52244   0.3302\n",
      "  0.33707  -0.35601   0.32431   0.12041   0.3512   -0.069043  0.36885\n",
      "  0.25168  -0.24517   0.25381   0.1367   -0.31178  -0.6321   -0.25028\n",
      " -0.38097 ] \n",
      "\n",
      "in\n",
      "[ 0.33042    0.24995   -0.60874    0.10923    0.036372   0.151\n",
      " -0.55083   -0.074239  -0.092307  -0.32821    0.09598   -0.82269\n",
      " -0.36717   -0.67009    0.42909    0.016496  -0.23573    0.12864\n",
      " -1.0953     0.43334    0.57067   -0.1036     0.20422    0.078308\n",
      " -0.42795   -1.7984    -0.27865    0.11954   -0.12689    0.031744\n",
      "  3.8631    -0.17786   -0.082434  -0.62698    0.26497   -0.057185\n",
      " -0.073521   0.46103    0.30862    0.12498   -0.48609   -0.0080272\n",
      "  0.031184  -0.36576   -0.42699    0.42164   -0.11666   -0.50703\n",
      " -0.027273  -0.53285  ] \n",
      "\n",
      "the\n",
      "[ 4.1800e-01  2.4968e-01 -4.1242e-01  1.2170e-01  3.4527e-01 -4.4457e-02\n",
      " -4.9688e-01 -1.7862e-01 -6.6023e-04 -6.5660e-01  2.7843e-01 -1.4767e-01\n",
      " -5.5677e-01  1.4658e-01 -9.5095e-03  1.1658e-02  1.0204e-01 -1.2792e-01\n",
      " -8.4430e-01 -1.2181e-01 -1.6801e-02 -3.3279e-01 -1.5520e-01 -2.3131e-01\n",
      " -1.9181e-01 -1.8823e+00 -7.6746e-01  9.9051e-02 -4.2125e-01 -1.9526e-01\n",
      "  4.0071e+00 -1.8594e-01 -5.2287e-01 -3.1681e-01  5.9213e-04  7.4449e-03\n",
      "  1.7778e-01 -1.5897e-01  1.2041e-02 -5.4223e-02 -2.9871e-01 -1.5749e-01\n",
      " -3.4758e-01 -4.5637e-02 -4.4251e-01  1.8785e-01  2.7849e-03 -1.8411e-01\n",
      " -1.1514e-01 -7.8581e-01] \n",
      "\n",
      "for\n",
      "[ 0.15272   0.36181  -0.22168   0.066051  0.13029   0.37075  -0.75874\n",
      " -0.44722   0.22563   0.10208   0.054225  0.13494  -0.43052  -0.2134\n",
      "  0.56139  -0.21445   0.077974  0.10137  -0.51306  -0.40295   0.40639\n",
      "  0.23309   0.20696  -0.12668  -0.50634  -1.7131    0.077183 -0.39138\n",
      " -0.10594  -0.23743   3.9552    0.66596  -0.61841  -0.3268    0.37021\n",
      "  0.25764   0.38977   0.27121   0.043024 -0.34322   0.020339  0.2142\n",
      "  0.044097  0.14003  -0.20079   0.074794 -0.36076   0.43382  -0.084617\n",
      "  0.1214  ] \n",
      "\n",
      "to\n",
      "[ 0.68047  -0.039263  0.30186  -0.17792   0.42962   0.032246 -0.41376\n",
      "  0.13228  -0.29847  -0.085253  0.17118   0.22419  -0.10046  -0.43653\n",
      "  0.33418   0.67846   0.057204 -0.34448  -0.42785  -0.43275   0.55963\n",
      "  0.10032   0.18677  -0.26854   0.037334 -2.0932    0.22171  -0.39868\n",
      "  0.20912  -0.55725   3.8826    0.47466  -0.95658  -0.37788   0.20869\n",
      " -0.32752   0.12751   0.088359  0.16351  -0.21634  -0.094375  0.018324\n",
      "  0.21048  -0.03088  -0.19722   0.082279 -0.09434  -0.073297 -0.064699\n",
      " -0.26044 ] \n",
      "\n",
      "core\n",
      "[-3.7124e-01  1.2935e-01  8.1886e-01  1.1491e-01  9.7028e-01  3.4835e-01\n",
      "  2.4526e-01 -1.1279e+00 -2.0422e-01  2.5029e-01  4.5732e-01 -4.8484e-01\n",
      " -3.9845e-01  3.9086e-01 -8.2247e-01  5.0430e-01 -5.2889e-03  6.4398e-01\n",
      "  5.8598e-01 -5.7627e-01  2.8032e-01 -3.5389e-01 -3.7735e-02 -2.9026e-02\n",
      " -3.7722e-01 -5.1667e-01 -4.1971e-01  3.2197e-03  2.3005e-01  2.7612e-01\n",
      "  3.2572e+00 -2.0197e-01 -3.4484e-02 -6.5711e-01 -1.5315e-01 -6.3493e-02\n",
      " -6.7327e-01 -2.1326e-01 -6.9751e-02 -4.5281e-01 -4.4148e-02 -1.1063e+00\n",
      " -4.4933e-01  3.0993e-01  1.8381e-01  3.2190e-01  4.2518e-01  4.0204e-01\n",
      " -3.9606e-01 -1.0162e-01] \n",
      "\n",
      "cancer\n",
      "[ 1.6063    0.95936   0.27139  -0.24764  -0.51567   2.0015   -0.23071\n",
      " -0.22462   1.59      0.73166   0.64946  -0.65426   0.084045 -0.1634\n",
      "  0.56172   0.39346  -0.78752  -0.56016  -0.40883   0.96329  -0.87079\n",
      "  0.21203   1.2312   -0.38052  -0.28649  -1.5855   -0.442    -0.56692\n",
      " -0.35744   0.241     1.9604    0.44628  -0.065914 -1.4572   -0.31975\n",
      " -0.54031   0.49347   1.385     1.472    -0.56566  -0.55331  -0.20481\n",
      " -0.058331  0.66966   1.5394    0.21922  -0.10593  -0.55149  -0.56428\n",
      "  1.0451  ] \n",
      "\n",
      "cell\n",
      "[ 1.4761e+00  4.2424e-01  1.4387e+00  5.2770e-01  6.8466e-01  1.0248e+00\n",
      "  4.2836e-01 -4.3636e-01  9.3776e-01  4.9990e-01  7.6628e-01 -6.2570e-01\n",
      "  1.1867e-01  7.6455e-01 -4.1856e-01  8.0716e-01 -1.1450e+00 -7.5398e-02\n",
      "  4.7328e-01  1.6632e-01  2.5749e-01 -4.1617e-01  4.5851e-01  6.5778e-01\n",
      " -4.7289e-01 -1.4163e+00  4.4180e-01 -2.5573e-01  3.5258e-01 -2.8840e-01\n",
      "  2.5676e+00 -3.1983e-01 -4.4509e-01 -1.2688e+00 -7.3922e-02  1.1260e-03\n",
      "  3.5743e-01  4.4641e-01  2.6805e-01  3.8776e-01  4.4051e-01 -2.6319e-01\n",
      " -4.8449e-01  7.8691e-01  1.4343e+00 -3.4328e-01  6.0773e-01 -9.8090e-01\n",
      " -4.7391e-01 -9.0641e-03] \n",
      "\n",
      "research\n",
      "[ 0.71258    0.64492    0.053186   0.30578   -0.058139   0.37774\n",
      " -0.9848    -1.4113     1.2767    -0.013141   0.55534    0.23268\n",
      " -0.013911  -0.0090835 -0.60868    0.11358    0.45878    0.42078\n",
      " -0.52664    0.54239    0.9867     0.26386    0.22037   -0.82848\n",
      "  0.24685   -1.288     -0.36937   -1.0895    -1.447      0.043814\n",
      "  3.1056    -0.60116    0.19298   -1.9592    -0.55103   -0.47018\n",
      " -0.70315    0.95543    1.3444     0.15053   -0.048638  -0.85941\n",
      "  0.42482    0.45963    0.95505   -0.19284    0.52146    1.1693\n",
      " -0.17361    0.89113  ] \n",
      "\n"
     ]
    }
   ],
   "source": [
    "# iterate through all the words in the sentence\n",
    "for ind, word in list(tokenizer.index_word.items())[0:10]:\n",
    "\n",
    "    # get the embedding for the word\n",
    "    embedding_vector = embeddings_index.get(word, 'no embedding')\n",
    "\n",
    "    # view the word and embedding\n",
    "    print(word)\n",
    "    print(embedding_vector, '\\n')"
   ]
  },
  {
   "cell_type": "code",
   "execution_count": 77,
   "metadata": {},
   "outputs": [
    {
     "name": "stdout",
     "output_type": "stream",
     "text": [
      " 0.72% words existed in pre-trained embeddings \n",
      "\n",
      "OUT OF VOCABULARY WORDS: \n",
      "['phenotyping', 'predoctoral', 'crispr', 'cardiometabolic', 'biospecimen', 'synuclein', 'optogenetic', 'metabolomic', 'biorepository', 'crcns', 'epigenomic', 'ncorp', 'mtorc', 'inflammasome', 'transcriptomic', 'proteostasis', 'epigenomics', 'hhsn', 'abeta', 'neuroaids']\n"
     ]
    }
   ],
   "source": [
    "embeddings_count = 0\n",
    "oov = []\n",
    "\n",
    "for ind, word in list(tokenizer.index_word.items()):\n",
    "    # get the embedding for the word\n",
    "    embedding_exists = embeddings_index.get(word, False)\n",
    "    \n",
    "    # count the embeddings that were pre-trained; keep track of out of vocabulary (oov) words\n",
    "    if embedding_exists is not False:\n",
    "        embeddings_count += 1\n",
    "    else:\n",
    "        oov.append(word)\n",
    "\n",
    "# calculate the percentage of words that existed in the pre-trained embeddings\n",
    "print(f'{embeddings_count / len(tokenizer.index_word): 2.2f}% words existed in pre-trained embeddings \\n')\n",
    "print(f'OUT OF VOCABULARY WORDS: \\n{oov[0:20]}')"
   ]
  },
  {
   "cell_type": "code",
   "execution_count": 78,
   "metadata": {},
   "outputs": [],
   "source": [
    "# create a weight matrix for words in training docs\n",
    "embedding_matrix = zeros((vocab_size, 50))\n",
    "\n",
    "for word, i in tokenizer.word_index.items():    \n",
    "    embedding_vector = embeddings_index.get(word)\n",
    "    \n",
    "    # add each word in the embedding_matrix in the slot for the tokenizer's word id\n",
    "    if embedding_vector is not None:\n",
    "        embedding_matrix[i] = embedding_vector"
   ]
  },
  {
   "cell_type": "code",
   "execution_count": 79,
   "metadata": {
    "scrolled": false
   },
   "outputs": [
    {
     "name": "stdout",
     "output_type": "stream",
     "text": [
      "[[ 0.00000000e+00  0.00000000e+00  0.00000000e+00  0.00000000e+00\n",
      "   0.00000000e+00  0.00000000e+00  0.00000000e+00  0.00000000e+00\n",
      "   0.00000000e+00  0.00000000e+00  0.00000000e+00  0.00000000e+00\n",
      "   0.00000000e+00  0.00000000e+00  0.00000000e+00  0.00000000e+00\n",
      "   0.00000000e+00  0.00000000e+00  0.00000000e+00  0.00000000e+00\n",
      "   0.00000000e+00  0.00000000e+00  0.00000000e+00  0.00000000e+00\n",
      "   0.00000000e+00  0.00000000e+00  0.00000000e+00  0.00000000e+00\n",
      "   0.00000000e+00  0.00000000e+00  0.00000000e+00  0.00000000e+00\n",
      "   0.00000000e+00  0.00000000e+00  0.00000000e+00  0.00000000e+00\n",
      "   0.00000000e+00  0.00000000e+00  0.00000000e+00  0.00000000e+00\n",
      "   0.00000000e+00  0.00000000e+00  0.00000000e+00  0.00000000e+00\n",
      "   0.00000000e+00  0.00000000e+00  0.00000000e+00  0.00000000e+00\n",
      "   0.00000000e+00  0.00000000e+00]\n",
      " [ 7.08530009e-01  5.70879996e-01 -4.71599996e-01  1.80480003e-01\n",
      "   5.44489980e-01  7.26029992e-01  1.81569993e-01 -5.23930013e-01\n",
      "   1.03809997e-01 -1.75659999e-01  7.88519979e-02 -3.62159997e-01\n",
      "  -1.18290000e-01 -8.33360016e-01  1.19170003e-01 -1.66050002e-01\n",
      "   6.15549982e-02 -1.27189998e-02 -5.66229999e-01  1.36160003e-02\n",
      "   2.28510007e-01 -1.43959999e-01 -6.75489977e-02 -3.81570011e-01\n",
      "  -2.36980006e-01 -1.70369995e+00 -8.66919994e-01 -2.67040014e-01\n",
      "  -2.58899987e-01  1.76699996e-01  3.86759996e+00 -1.61300004e-01\n",
      "  -1.32730007e-01 -6.88809991e-01  1.84440002e-01  5.24639990e-03\n",
      "  -3.38739991e-01 -7.89560005e-02  2.41850004e-01  3.65759999e-01\n",
      "  -3.47270012e-01  2.84830004e-01  7.56929964e-02 -6.21780008e-02\n",
      "  -3.89880002e-01  2.29020000e-01 -2.16169998e-01 -2.25620002e-01\n",
      "  -9.39180031e-02 -8.03749979e-01]\n",
      " [ 2.68180013e-01  1.43460006e-01 -2.78770000e-01  1.62569992e-02\n",
      "   1.13839999e-01  6.99230015e-01 -5.13320029e-01 -4.73679990e-01\n",
      "  -3.30749989e-01 -1.38339996e-01  2.70200014e-01  3.09379995e-01\n",
      "  -4.50120002e-01 -4.12699997e-01 -9.93200019e-02  3.80849987e-02\n",
      "   2.97490004e-02  1.00759998e-01 -2.50580013e-01 -5.18180013e-01\n",
      "   3.45580012e-01  4.49220002e-01  4.87910002e-01 -8.08660015e-02\n",
      "  -1.01209998e-01 -1.37769997e+00 -1.08659998e-01 -2.32010007e-01\n",
      "   1.28389997e-02 -4.65079993e-01  3.84629989e+00  3.13620001e-01\n",
      "   1.36429995e-01 -5.22440016e-01  3.30199987e-01  3.37069988e-01\n",
      "  -3.56009990e-01  3.24310005e-01  1.20410003e-01  3.51200014e-01\n",
      "  -6.90430030e-02  3.68849993e-01  2.51679987e-01 -2.45169997e-01\n",
      "   2.53809988e-01  1.36700004e-01 -3.11780006e-01 -6.32099986e-01\n",
      "  -2.50279993e-01 -3.80970001e-01]\n",
      " [ 3.30419987e-01  2.49950007e-01 -6.08739972e-01  1.09229997e-01\n",
      "   3.63719985e-02  1.50999993e-01 -5.50830007e-01 -7.42390007e-02\n",
      "  -9.23070014e-02 -3.28209996e-01  9.59800035e-02 -8.22690010e-01\n",
      "  -3.67170006e-01 -6.70090020e-01  4.29089993e-01  1.64960008e-02\n",
      "  -2.35730007e-01  1.28639996e-01 -1.09529996e+00  4.33340013e-01\n",
      "   5.70670009e-01 -1.03600003e-01  2.04219997e-01  7.83080012e-02\n",
      "  -4.27949995e-01 -1.79840004e+00 -2.78649986e-01  1.19539998e-01\n",
      "  -1.26890004e-01  3.17439996e-02  3.86310005e+00 -1.77860007e-01\n",
      "  -8.24339986e-02 -6.26980007e-01  2.64970005e-01 -5.71850017e-02\n",
      "  -7.35210031e-02  4.61030006e-01  3.08620006e-01  1.24980003e-01\n",
      "  -4.86090004e-01 -8.02719966e-03  3.11840009e-02 -3.65759999e-01\n",
      "  -4.26990002e-01  4.21640009e-01 -1.16659999e-01 -5.07030010e-01\n",
      "  -2.72729993e-02 -5.32850027e-01]\n",
      " [ 4.18000013e-01  2.49679998e-01 -4.12420005e-01  1.21699996e-01\n",
      "   3.45270008e-01 -4.44569997e-02 -4.96879995e-01 -1.78619996e-01\n",
      "  -6.60229998e-04 -6.56599998e-01  2.78430015e-01 -1.47670001e-01\n",
      "  -5.56770027e-01  1.46579996e-01 -9.50950012e-03  1.16579998e-02\n",
      "   1.02040000e-01 -1.27920002e-01 -8.44299972e-01 -1.21809997e-01\n",
      "  -1.68009996e-02 -3.32789987e-01 -1.55200005e-01 -2.31309995e-01\n",
      "  -1.91809997e-01 -1.88230002e+00 -7.67459989e-01  9.90509987e-02\n",
      "  -4.21249986e-01 -1.95260003e-01  4.00710011e+00 -1.85939997e-01\n",
      "  -5.22870004e-01 -3.16810012e-01  5.92130003e-04  7.44489999e-03\n",
      "   1.77780002e-01 -1.58969998e-01  1.20409997e-02 -5.42230010e-02\n",
      "  -2.98709989e-01 -1.57490000e-01 -3.47579986e-01 -4.56370004e-02\n",
      "  -4.42510009e-01  1.87849998e-01  2.78489990e-03 -1.84110001e-01\n",
      "  -1.15139998e-01 -7.85809994e-01]]\n"
     ]
    }
   ],
   "source": [
    "# view the embedding look up table\n",
    "print(embedding_matrix[0:5])"
   ]
  },
  {
   "cell_type": "markdown",
   "metadata": {},
   "source": [
    "##### View an example of looking up a word by the tokenizer id in the embedding matrix"
   ]
  },
  {
   "cell_type": "code",
   "execution_count": 80,
   "metadata": {},
   "outputs": [
    {
     "data": {
      "text/plain": [
       "array([-3.5586e-01,  5.2130e-01, -6.1070e-01, -3.0131e-01,  9.4862e-01,\n",
       "       -3.1539e-01, -5.9831e-01,  1.2188e-01, -3.1943e-02,  5.5695e-01,\n",
       "       -1.0621e-01,  6.3399e-01, -4.7340e-01, -7.5895e-02,  3.8247e-01,\n",
       "        8.1569e-02,  8.2214e-01,  2.2220e-01, -8.3764e-03, -7.6620e-01,\n",
       "       -5.6253e-01,  6.1759e-01,  2.0292e-01, -4.8598e-02,  8.7815e-01,\n",
       "       -1.6549e+00, -7.7418e-01,  1.5435e-01,  9.4823e-01, -3.9520e-01,\n",
       "        3.7302e+00,  8.2855e-01, -1.4104e-01,  1.6395e-02,  2.1115e-01,\n",
       "       -3.6085e-02, -1.5587e-01,  8.6583e-01,  2.6309e-01, -7.1015e-01,\n",
       "       -3.6770e-02,  1.8282e-03, -1.7704e-01,  2.7032e-01,  1.1026e-01,\n",
       "        1.4133e-01, -5.7322e-02,  2.7207e-01,  3.1305e-01,  9.2771e-01],\n",
       "      dtype=float32)"
      ]
     },
     "execution_count": 80,
     "metadata": {},
     "output_type": "execute_result"
    }
   ],
   "source": [
    "embeddings_index['good']"
   ]
  },
  {
   "cell_type": "code",
   "execution_count": 81,
   "metadata": {},
   "outputs": [
    {
     "data": {
      "text/plain": [
       "[[8769]]"
      ]
     },
     "execution_count": 81,
     "metadata": {},
     "output_type": "execute_result"
    }
   ],
   "source": [
    "token_id = tokenizer.texts_to_sequences(['good'])\n",
    "token_id"
   ]
  },
  {
   "cell_type": "code",
   "execution_count": 82,
   "metadata": {},
   "outputs": [
    {
     "name": "stdout",
     "output_type": "stream",
     "text": [
      "[[-3.55859995e-01  5.21300018e-01 -6.10700011e-01 -3.01310003e-01\n",
      "   9.48620021e-01 -3.15389991e-01 -5.98309994e-01  1.21880002e-01\n",
      "  -3.19430009e-02  5.56949973e-01 -1.06210001e-01  6.33989990e-01\n",
      "  -4.73399997e-01 -7.58949965e-02  3.82470012e-01  8.15690011e-02\n",
      "   8.22139978e-01  2.22200006e-01 -8.37639999e-03 -7.66200006e-01\n",
      "  -5.62529981e-01  6.17590010e-01  2.02920005e-01 -4.85979989e-02\n",
      "   8.78149986e-01 -1.65489995e+00 -7.74179995e-01  1.54349998e-01\n",
      "   9.48230028e-01 -3.95200014e-01  3.73020005e+00  8.28549981e-01\n",
      "  -1.41039997e-01  1.63950007e-02  2.11150005e-01 -3.60849984e-02\n",
      "  -1.55870005e-01  8.65830004e-01  2.63090014e-01 -7.10150003e-01\n",
      "  -3.67700011e-02  1.82819995e-03 -1.77039996e-01  2.70319998e-01\n",
      "   1.10260002e-01  1.41330004e-01 -5.73219992e-02  2.72069991e-01\n",
      "   3.13050002e-01  9.27709997e-01]]\n"
     ]
    }
   ],
   "source": [
    "print(embedding_matrix[token_id[0]])"
   ]
  },
  {
   "cell_type": "markdown",
   "metadata": {},
   "source": [
    "##### Create embeddings for an entire sentence"
   ]
  },
  {
   "cell_type": "code",
   "execution_count": 97,
   "metadata": {},
   "outputs": [
    {
     "data": {
      "text/plain": [
       "'autism genetics phase ii increasing representation of human diversity'"
      ]
     },
     "execution_count": 97,
     "metadata": {},
     "output_type": "execute_result"
    }
   ],
   "source": [
    "example_sentence = X_train[0]\n",
    "example_sentence"
   ]
  },
  {
   "cell_type": "code",
   "execution_count": 98,
   "metadata": {},
   "outputs": [
    {
     "data": {
      "text/plain": [
       "[[316, 167, 220, 367, 1384, 2885, 1, 30, 390]]"
      ]
     },
     "execution_count": 98,
     "metadata": {},
     "output_type": "execute_result"
    }
   ],
   "source": [
    "sentence_ids = tokenizer.texts_to_sequences([example_sentence])\n",
    "sentence_ids"
   ]
  },
  {
   "cell_type": "code",
   "execution_count": 99,
   "metadata": {},
   "outputs": [
    {
     "data": {
      "text/html": [
       "<div>\n",
       "<style scoped>\n",
       "    .dataframe tbody tr th:only-of-type {\n",
       "        vertical-align: middle;\n",
       "    }\n",
       "\n",
       "    .dataframe tbody tr th {\n",
       "        vertical-align: top;\n",
       "    }\n",
       "\n",
       "    .dataframe thead th {\n",
       "        text-align: right;\n",
       "    }\n",
       "</style>\n",
       "<table border=\"1\" class=\"dataframe\">\n",
       "  <thead>\n",
       "    <tr style=\"text-align: right;\">\n",
       "      <th></th>\n",
       "      <th>0</th>\n",
       "      <th>1</th>\n",
       "      <th>2</th>\n",
       "      <th>3</th>\n",
       "      <th>4</th>\n",
       "      <th>5</th>\n",
       "      <th>6</th>\n",
       "      <th>7</th>\n",
       "      <th>8</th>\n",
       "      <th>9</th>\n",
       "      <th>...</th>\n",
       "      <th>40</th>\n",
       "      <th>41</th>\n",
       "      <th>42</th>\n",
       "      <th>43</th>\n",
       "      <th>44</th>\n",
       "      <th>45</th>\n",
       "      <th>46</th>\n",
       "      <th>47</th>\n",
       "      <th>48</th>\n",
       "      <th>49</th>\n",
       "    </tr>\n",
       "  </thead>\n",
       "  <tbody>\n",
       "    <tr>\n",
       "      <th>autism</th>\n",
       "      <td>1.336700</td>\n",
       "      <td>0.483980</td>\n",
       "      <td>-0.070310</td>\n",
       "      <td>-0.47615</td>\n",
       "      <td>-0.728760</td>\n",
       "      <td>2.398800</td>\n",
       "      <td>-0.166770</td>\n",
       "      <td>-1.468300</td>\n",
       "      <td>1.10760</td>\n",
       "      <td>0.682530</td>\n",
       "      <td>...</td>\n",
       "      <td>-0.43317</td>\n",
       "      <td>-0.231480</td>\n",
       "      <td>-0.603400</td>\n",
       "      <td>1.531700</td>\n",
       "      <td>0.56115</td>\n",
       "      <td>0.44502</td>\n",
       "      <td>0.38239</td>\n",
       "      <td>0.909420</td>\n",
       "      <td>0.303240</td>\n",
       "      <td>0.495220</td>\n",
       "    </tr>\n",
       "    <tr>\n",
       "      <th>genetics</th>\n",
       "      <td>0.381100</td>\n",
       "      <td>-0.027596</td>\n",
       "      <td>-1.051600</td>\n",
       "      <td>0.56067</td>\n",
       "      <td>0.323210</td>\n",
       "      <td>1.205100</td>\n",
       "      <td>-0.251660</td>\n",
       "      <td>-1.349700</td>\n",
       "      <td>1.11560</td>\n",
       "      <td>-0.103750</td>\n",
       "      <td>...</td>\n",
       "      <td>-0.39468</td>\n",
       "      <td>-0.810370</td>\n",
       "      <td>0.169400</td>\n",
       "      <td>1.034500</td>\n",
       "      <td>0.72777</td>\n",
       "      <td>0.69540</td>\n",
       "      <td>1.48470</td>\n",
       "      <td>0.617980</td>\n",
       "      <td>-0.121490</td>\n",
       "      <td>0.383430</td>\n",
       "    </tr>\n",
       "    <tr>\n",
       "      <th>phase</th>\n",
       "      <td>1.061600</td>\n",
       "      <td>0.274430</td>\n",
       "      <td>-0.252800</td>\n",
       "      <td>0.43043</td>\n",
       "      <td>-0.531820</td>\n",
       "      <td>0.136820</td>\n",
       "      <td>0.864920</td>\n",
       "      <td>0.091777</td>\n",
       "      <td>0.21752</td>\n",
       "      <td>0.412720</td>\n",
       "      <td>...</td>\n",
       "      <td>-0.61164</td>\n",
       "      <td>-0.863380</td>\n",
       "      <td>-0.384230</td>\n",
       "      <td>-0.168480</td>\n",
       "      <td>-0.32631</td>\n",
       "      <td>-0.14538</td>\n",
       "      <td>1.37240</td>\n",
       "      <td>0.409720</td>\n",
       "      <td>-0.237720</td>\n",
       "      <td>0.364040</td>\n",
       "    </tr>\n",
       "    <tr>\n",
       "      <th>ii</th>\n",
       "      <td>1.098800</td>\n",
       "      <td>1.024800</td>\n",
       "      <td>-0.021138</td>\n",
       "      <td>-0.49500</td>\n",
       "      <td>-0.038914</td>\n",
       "      <td>-0.008532</td>\n",
       "      <td>0.558440</td>\n",
       "      <td>-0.095818</td>\n",
       "      <td>-0.87519</td>\n",
       "      <td>-0.631620</td>\n",
       "      <td>...</td>\n",
       "      <td>0.29140</td>\n",
       "      <td>-0.107670</td>\n",
       "      <td>0.059000</td>\n",
       "      <td>-0.946740</td>\n",
       "      <td>0.14383</td>\n",
       "      <td>0.77221</td>\n",
       "      <td>-0.35722</td>\n",
       "      <td>-1.231800</td>\n",
       "      <td>-1.220800</td>\n",
       "      <td>0.098249</td>\n",
       "    </tr>\n",
       "    <tr>\n",
       "      <th>increasing</th>\n",
       "      <td>0.064295</td>\n",
       "      <td>0.369170</td>\n",
       "      <td>0.531780</td>\n",
       "      <td>-0.77435</td>\n",
       "      <td>-0.217590</td>\n",
       "      <td>0.360780</td>\n",
       "      <td>0.504830</td>\n",
       "      <td>-0.563590</td>\n",
       "      <td>0.93639</td>\n",
       "      <td>0.400430</td>\n",
       "      <td>...</td>\n",
       "      <td>-0.57452</td>\n",
       "      <td>0.153030</td>\n",
       "      <td>0.204620</td>\n",
       "      <td>-0.040293</td>\n",
       "      <td>0.12739</td>\n",
       "      <td>-0.52481</td>\n",
       "      <td>0.11304</td>\n",
       "      <td>0.495610</td>\n",
       "      <td>-0.082298</td>\n",
       "      <td>-0.044183</td>\n",
       "    </tr>\n",
       "    <tr>\n",
       "      <th>representation</th>\n",
       "      <td>-0.207190</td>\n",
       "      <td>0.113470</td>\n",
       "      <td>-0.492140</td>\n",
       "      <td>0.39233</td>\n",
       "      <td>1.408100</td>\n",
       "      <td>0.826890</td>\n",
       "      <td>1.133300</td>\n",
       "      <td>-0.610640</td>\n",
       "      <td>-0.20473</td>\n",
       "      <td>0.048441</td>\n",
       "      <td>...</td>\n",
       "      <td>0.29945</td>\n",
       "      <td>-0.199480</td>\n",
       "      <td>-0.223360</td>\n",
       "      <td>0.556970</td>\n",
       "      <td>-1.72730</td>\n",
       "      <td>-0.11378</td>\n",
       "      <td>-0.14065</td>\n",
       "      <td>0.529610</td>\n",
       "      <td>0.806610</td>\n",
       "      <td>-0.275590</td>\n",
       "    </tr>\n",
       "    <tr>\n",
       "      <th>of</th>\n",
       "      <td>0.708530</td>\n",
       "      <td>0.570880</td>\n",
       "      <td>-0.471600</td>\n",
       "      <td>0.18048</td>\n",
       "      <td>0.544490</td>\n",
       "      <td>0.726030</td>\n",
       "      <td>0.181570</td>\n",
       "      <td>-0.523930</td>\n",
       "      <td>0.10381</td>\n",
       "      <td>-0.175660</td>\n",
       "      <td>...</td>\n",
       "      <td>-0.34727</td>\n",
       "      <td>0.284830</td>\n",
       "      <td>0.075693</td>\n",
       "      <td>-0.062178</td>\n",
       "      <td>-0.38988</td>\n",
       "      <td>0.22902</td>\n",
       "      <td>-0.21617</td>\n",
       "      <td>-0.225620</td>\n",
       "      <td>-0.093918</td>\n",
       "      <td>-0.803750</td>\n",
       "    </tr>\n",
       "    <tr>\n",
       "      <th>human</th>\n",
       "      <td>0.618540</td>\n",
       "      <td>0.119150</td>\n",
       "      <td>-0.467860</td>\n",
       "      <td>0.31368</td>\n",
       "      <td>1.033400</td>\n",
       "      <td>0.959640</td>\n",
       "      <td>0.878030</td>\n",
       "      <td>-1.034600</td>\n",
       "      <td>1.63220</td>\n",
       "      <td>0.293470</td>\n",
       "      <td>...</td>\n",
       "      <td>-0.55007</td>\n",
       "      <td>-0.079205</td>\n",
       "      <td>0.633890</td>\n",
       "      <td>0.514460</td>\n",
       "      <td>0.70124</td>\n",
       "      <td>0.27638</td>\n",
       "      <td>-0.53445</td>\n",
       "      <td>0.064808</td>\n",
       "      <td>-0.219740</td>\n",
       "      <td>-0.520480</td>\n",
       "    </tr>\n",
       "    <tr>\n",
       "      <th>diversity</th>\n",
       "      <td>-0.274610</td>\n",
       "      <td>0.879090</td>\n",
       "      <td>-1.096200</td>\n",
       "      <td>0.51260</td>\n",
       "      <td>1.059600</td>\n",
       "      <td>0.159130</td>\n",
       "      <td>0.017131</td>\n",
       "      <td>-1.422700</td>\n",
       "      <td>1.17790</td>\n",
       "      <td>0.294100</td>\n",
       "      <td>...</td>\n",
       "      <td>-0.54499</td>\n",
       "      <td>-0.328190</td>\n",
       "      <td>-0.143880</td>\n",
       "      <td>0.516840</td>\n",
       "      <td>-0.29009</td>\n",
       "      <td>0.39579</td>\n",
       "      <td>0.30882</td>\n",
       "      <td>0.706400</td>\n",
       "      <td>-0.534720</td>\n",
       "      <td>0.454940</td>\n",
       "    </tr>\n",
       "  </tbody>\n",
       "</table>\n",
       "<p>9 rows × 50 columns</p>\n",
       "</div>"
      ],
      "text/plain": [
       "                      0         1         2        3         4         5   \\\n",
       "autism          1.336700  0.483980 -0.070310 -0.47615 -0.728760  2.398800   \n",
       "genetics        0.381100 -0.027596 -1.051600  0.56067  0.323210  1.205100   \n",
       "phase           1.061600  0.274430 -0.252800  0.43043 -0.531820  0.136820   \n",
       "ii              1.098800  1.024800 -0.021138 -0.49500 -0.038914 -0.008532   \n",
       "increasing      0.064295  0.369170  0.531780 -0.77435 -0.217590  0.360780   \n",
       "representation -0.207190  0.113470 -0.492140  0.39233  1.408100  0.826890   \n",
       "of              0.708530  0.570880 -0.471600  0.18048  0.544490  0.726030   \n",
       "human           0.618540  0.119150 -0.467860  0.31368  1.033400  0.959640   \n",
       "diversity      -0.274610  0.879090 -1.096200  0.51260  1.059600  0.159130   \n",
       "\n",
       "                      6         7        8         9   ...       40        41  \\\n",
       "autism         -0.166770 -1.468300  1.10760  0.682530  ... -0.43317 -0.231480   \n",
       "genetics       -0.251660 -1.349700  1.11560 -0.103750  ... -0.39468 -0.810370   \n",
       "phase           0.864920  0.091777  0.21752  0.412720  ... -0.61164 -0.863380   \n",
       "ii              0.558440 -0.095818 -0.87519 -0.631620  ...  0.29140 -0.107670   \n",
       "increasing      0.504830 -0.563590  0.93639  0.400430  ... -0.57452  0.153030   \n",
       "representation  1.133300 -0.610640 -0.20473  0.048441  ...  0.29945 -0.199480   \n",
       "of              0.181570 -0.523930  0.10381 -0.175660  ... -0.34727  0.284830   \n",
       "human           0.878030 -1.034600  1.63220  0.293470  ... -0.55007 -0.079205   \n",
       "diversity       0.017131 -1.422700  1.17790  0.294100  ... -0.54499 -0.328190   \n",
       "\n",
       "                      42        43       44       45       46        47  \\\n",
       "autism         -0.603400  1.531700  0.56115  0.44502  0.38239  0.909420   \n",
       "genetics        0.169400  1.034500  0.72777  0.69540  1.48470  0.617980   \n",
       "phase          -0.384230 -0.168480 -0.32631 -0.14538  1.37240  0.409720   \n",
       "ii              0.059000 -0.946740  0.14383  0.77221 -0.35722 -1.231800   \n",
       "increasing      0.204620 -0.040293  0.12739 -0.52481  0.11304  0.495610   \n",
       "representation -0.223360  0.556970 -1.72730 -0.11378 -0.14065  0.529610   \n",
       "of              0.075693 -0.062178 -0.38988  0.22902 -0.21617 -0.225620   \n",
       "human           0.633890  0.514460  0.70124  0.27638 -0.53445  0.064808   \n",
       "diversity      -0.143880  0.516840 -0.29009  0.39579  0.30882  0.706400   \n",
       "\n",
       "                      48        49  \n",
       "autism          0.303240  0.495220  \n",
       "genetics       -0.121490  0.383430  \n",
       "phase          -0.237720  0.364040  \n",
       "ii             -1.220800  0.098249  \n",
       "increasing     -0.082298 -0.044183  \n",
       "representation  0.806610 -0.275590  \n",
       "of             -0.093918 -0.803750  \n",
       "human          -0.219740 -0.520480  \n",
       "diversity      -0.534720  0.454940  \n",
       "\n",
       "[9 rows x 50 columns]"
      ]
     },
     "execution_count": 99,
     "metadata": {},
     "output_type": "execute_result"
    }
   ],
   "source": [
    "# structure the embeddings of each word in a sentence\n",
    "sentence_embedding = pd.DataFrame(\n",
    "    [embedding_matrix[word_id] for word_id in sentence_ids][0],  # store the embedding of each word in a list\n",
    "    index=example_sentence.split()  # use the words (from the original sentence) as the row index\n",
    ")\n",
    "\n",
    "sentence_embedding"
   ]
  },
  {
   "cell_type": "markdown",
   "metadata": {},
   "source": [
    "### average the embeddings as a simple example of how to combine embeddings\n",
    "\n",
    "[A Simple but Tough-To-Beat Baseline for Sentence Embeddings](https://openreview.net/pdf?id=SyK00v5xx):\n",
    "Sanjeev Arora, Yingyu Liang, Tengyu Ma \n",
    "\n"
   ]
  },
  {
   "cell_type": "code",
   "execution_count": 86,
   "metadata": {},
   "outputs": [
    {
     "data": {
      "text/html": [
       "<div>\n",
       "<style scoped>\n",
       "    .dataframe tbody tr th:only-of-type {\n",
       "        vertical-align: middle;\n",
       "    }\n",
       "\n",
       "    .dataframe tbody tr th {\n",
       "        vertical-align: top;\n",
       "    }\n",
       "\n",
       "    .dataframe thead th {\n",
       "        text-align: right;\n",
       "    }\n",
       "</style>\n",
       "<table border=\"1\" class=\"dataframe\">\n",
       "  <thead>\n",
       "    <tr style=\"text-align: right;\">\n",
       "      <th></th>\n",
       "      <th>0</th>\n",
       "      <th>1</th>\n",
       "      <th>2</th>\n",
       "      <th>3</th>\n",
       "      <th>4</th>\n",
       "      <th>5</th>\n",
       "      <th>6</th>\n",
       "      <th>7</th>\n",
       "      <th>8</th>\n",
       "      <th>9</th>\n",
       "      <th>...</th>\n",
       "      <th>40</th>\n",
       "      <th>41</th>\n",
       "      <th>42</th>\n",
       "      <th>43</th>\n",
       "      <th>44</th>\n",
       "      <th>45</th>\n",
       "      <th>46</th>\n",
       "      <th>47</th>\n",
       "      <th>48</th>\n",
       "      <th>49</th>\n",
       "    </tr>\n",
       "  </thead>\n",
       "  <tbody>\n",
       "    <tr>\n",
       "      <th>0</th>\n",
       "      <td>0.531974</td>\n",
       "      <td>0.423042</td>\n",
       "      <td>-0.376874</td>\n",
       "      <td>0.071632</td>\n",
       "      <td>0.316857</td>\n",
       "      <td>0.751629</td>\n",
       "      <td>0.41331</td>\n",
       "      <td>-0.775278</td>\n",
       "      <td>0.579011</td>\n",
       "      <td>0.135629</td>\n",
       "      <td>...</td>\n",
       "      <td>-0.318388</td>\n",
       "      <td>-0.242435</td>\n",
       "      <td>-0.023585</td>\n",
       "      <td>0.326309</td>\n",
       "      <td>-0.052467</td>\n",
       "      <td>0.225539</td>\n",
       "      <td>0.268096</td>\n",
       "      <td>0.252903</td>\n",
       "      <td>-0.155648</td>\n",
       "      <td>0.016875</td>\n",
       "    </tr>\n",
       "  </tbody>\n",
       "</table>\n",
       "<p>1 rows × 50 columns</p>\n",
       "</div>"
      ],
      "text/plain": [
       "         0         1         2         3         4         5        6   \\\n",
       "0  0.531974  0.423042 -0.376874  0.071632  0.316857  0.751629  0.41331   \n",
       "\n",
       "         7         8         9   ...        40        41        42        43  \\\n",
       "0 -0.775278  0.579011  0.135629  ... -0.318388 -0.242435 -0.023585  0.326309   \n",
       "\n",
       "         44        45        46        47        48        49  \n",
       "0 -0.052467  0.225539  0.268096  0.252903 -0.155648  0.016875  \n",
       "\n",
       "[1 rows x 50 columns]"
      ]
     },
     "execution_count": 86,
     "metadata": {},
     "output_type": "execute_result"
    }
   ],
   "source": [
    "pd.DataFrame(sentence_embedding.mean()).T"
   ]
  },
  {
   "cell_type": "code",
   "execution_count": 120,
   "metadata": {},
   "outputs": [],
   "source": [
    "def create_embeddings_baseline(data_sequences):\n",
    "    \"\"\" create a baseline by averaging all the embeddings in a sentence. This provides a single\n",
    "    array to describe the document, which allows the use of standard statistical models (e.g. logistic regression)\n",
    "    \n",
    "    :param data_sequences: 2d-list, list of lists contains id mappings for words in a sentence \n",
    "    \"\"\"\n",
    "    \n",
    "    # store all averaged embeddings for all sentences\n",
    "    averaged_sentence_embeddings = []\n",
    "    \n",
    "    # iterate through all sentences\n",
    "    for sentence_sequence in data_sequences:\n",
    "        \n",
    "        # convert id sequence into embeddings for one sentence\n",
    "        embeddings = [] # store embedding of one sentence\n",
    "        for word_id in sentence_sequence:\n",
    "            embedding = embedding_matrix[word_id]\n",
    "            embeddings.append(embedding)\n",
    "\n",
    "        # average the embeddings of one sentence\n",
    "        avg_embeddings = pd.DataFrame(embeddings).mean().values\n",
    "        averaged_sentence_embeddings.append(avg_embeddings)\n",
    "\n",
    "    # store all averaged embeddings in a dataframe\n",
    "    avg_emb_df = pd.DataFrame(averaged_sentence_embeddings)\n",
    "    \n",
    "    return avg_emb_df"
   ]
  },
  {
   "cell_type": "code",
   "execution_count": 121,
   "metadata": {},
   "outputs": [],
   "source": [
    "X_train_avg_emb_df = create_embeddings_baseline(X_train_sequence)\n",
    "X_test_avg_emb_df = create_embeddings_baseline(X_test_sequence)\n",
    "\n",
    "X_train_avg_emb_df.head()"
   ]
  },
  {
   "cell_type": "code",
   "execution_count": 125,
   "metadata": {},
   "outputs": [
    {
     "name": "stdout",
     "output_type": "stream",
     "text": [
      "accuracy: 0.43224040153836124\n",
      "log loss (cross-entropy): 1.8014815321104016\n"
     ]
    },
    {
     "name": "stderr",
     "output_type": "stream",
     "text": [
      "C:\\Users\\alsherman\\AppData\\Local\\Continuum\\miniconda3\\envs\\guild\\lib\\site-packages\\sklearn\\linear_model\\logistic.py:947: ConvergenceWarning: lbfgs failed to converge. Increase the number of iterations.\n",
      "  \"of iterations.\", ConvergenceWarning)\n"
     ]
    }
   ],
   "source": [
    "# train model\n",
    "logreg = LogisticRegression(solver='lbfgs', max_iter=300, multi_class='auto')\n",
    "logreg.fit(X_train_avg_emb_df, y_train)\n",
    "\n",
    "# store predictions\n",
    "y_pred = logreg.predict(X_test_avg_emb_df)\n",
    "y_pred_proba = logreg.predict_proba(X_test_avg_emb_df)\n",
    "\n",
    "# evaluate model\n",
    "print(f'accuracy: {metrics.accuracy_score(y_test, y_pred)}')\n",
    "print(f'log loss (cross-entropy): {metrics.log_loss(y_test, y_pred_proba)}')"
   ]
  },
  {
   "cell_type": "markdown",
   "metadata": {},
   "source": [
    "# 3. load this embedding matrix into a Keras Embedding layer, set to be frozen "
   ]
  },
  {
   "cell_type": "code",
   "execution_count": 126,
   "metadata": {},
   "outputs": [],
   "source": [
    "# define model\n",
    "model = Sequential()"
   ]
  },
  {
   "cell_type": "markdown",
   "metadata": {},
   "source": [
    "##### Specifying the input shape\n",
    "\n",
    "The model needs to know what input shape it should expect. For this reason, the first layer in a Sequential model (and only the first, because following layers can do automatic shape inference) needs to receive information about its input shape. For an embedding layer, the input length is the number of tokens passed as input. The embedding itself has a size of (vocab_size * embedding_dimension_size)."
   ]
  },
  {
   "cell_type": "markdown",
   "metadata": {},
   "source": [
    "### Embedding Layer"
   ]
  },
  {
   "cell_type": "code",
   "execution_count": 127,
   "metadata": {},
   "outputs": [
    {
     "data": {
      "text/plain": [
       "20439"
      ]
     },
     "execution_count": 127,
     "metadata": {},
     "output_type": "execute_result"
    }
   ],
   "source": [
    "# reminder - number of words learned from the vocabulary\n",
    "vocab_size"
   ]
  },
  {
   "cell_type": "code",
   "execution_count": 128,
   "metadata": {},
   "outputs": [],
   "source": [
    "# create an embedding layer from the pre-trained embeddings\n",
    "e = Embedding(\n",
    "  input_dim=vocab_size,                             # input (valid vocabulary) size\n",
    "  output_dim=50,                                    # output size (dimensionality of pre-trained embeddings)\n",
    "  input_length=MAX_SEQ_LENGTH,                      # Length of input sequences, when it is constant (max words allowed in a sentence)\n",
    "  embeddings_initializer=Constant(embedding_matrix),# add pre-trained embeddings\n",
    "  trainable=False                                   # prevent updates to the prtrained embeddings during model training\n",
    ")"
   ]
  },
  {
   "cell_type": "code",
   "execution_count": 129,
   "metadata": {},
   "outputs": [],
   "source": [
    "# add embedding to the model\n",
    "model.add(e)"
   ]
  },
  {
   "cell_type": "markdown",
   "metadata": {},
   "source": [
    "Keras offers an Embedding layer that can be used for neural networks on text data. It requires that the input data be integer encoded, so that each word is represented by a unique integer. This data preparation step can be performed using the Tokenizer API also provided with Keras.\n",
    "\n",
    "**The Embedding layer is initialized with random weights and will learn an embedding for all of the words in the training dataset.**\n",
    "\n",
    "It is a flexible layer that can be used in a variety of ways, such as:\n",
    "\n",
    "- It can be used alone to learn a word embedding that can be saved and used in another model later.\n",
    "- It can be used as part of a deep learning model where the embedding is learned along with the model itself.\n",
    "- It can be used to load a pre-trained word embedding model, a type of transfer learning.\n",
    "\n",
    "\n",
    "The Embedding layer is defined as the first hidden layer of a network. It must specify 3 arguments:\n",
    "\n",
    "\n",
    "- **input_dim**: This is the size of the vocabulary in the text data. For example, if your data is integer encoded to values between 0-10, then the size of the vocabulary would be 11 words.\n",
    "\n",
    "\n",
    "- **output_dim**: This is the size of the vector space in which words will be embedded. It defines the size of the output vectors from this layer for each word. For example, it could be 32 or 100 or even larger. Test different values for your problem.\n",
    "\n",
    "\n",
    "- **input_length**: This is the length of input sequences, as you would define for any input layer of a Keras model. For example, if all of your input documents are comprised of 1000 words, this would be 1000.\n",
    "For example, below we define an Embedding layer with a vocabulary of 200 (e.g. integer encoded words from 0 to 199, inclusive), a vector space of 32 dimensions in which words will be embedded, and input documents that have 50 words each.\n",
    "\n",
    "The Embedding layer has weights that are learned. If you save your model to file, this will include weights for the Embedding layer. The output of the Embedding layer is a 2D vector with one embedding for each word in the input sequence of words (input document).\n",
    "\n",
    "SOURCES: \n",
    "- https://machinelearningmastery.com/use-word-embedding-layers-deep-learning-keras/\n",
    "- https://keras.io/layers/embeddings/"
   ]
  },
  {
   "cell_type": "markdown",
   "metadata": {},
   "source": [
    "### Flatten\n",
    "\n",
    "Use Flatten to convert a multidimensional tensor into a single 1-D tensor"
   ]
  },
  {
   "cell_type": "code",
   "execution_count": 130,
   "metadata": {},
   "outputs": [],
   "source": [
    "model.add(Flatten())"
   ]
  },
  {
   "cell_type": "markdown",
   "metadata": {},
   "source": [
    "##### Flatten example"
   ]
  },
  {
   "cell_type": "code",
   "execution_count": 131,
   "metadata": {},
   "outputs": [
    {
     "name": "stdout",
     "output_type": "stream",
     "text": [
      "[ 0  1  2  3  4  5  6  7  8  9 10 11 12 13 14 15 16 17 18 19 20 21 22 23]\n"
     ]
    }
   ],
   "source": [
    "print(np.arange(0,24))"
   ]
  },
  {
   "cell_type": "code",
   "execution_count": 132,
   "metadata": {},
   "outputs": [
    {
     "data": {
      "text/plain": [
       "array([[[[ 0,  1,  2,  3],\n",
       "         [ 4,  5,  6,  7]],\n",
       "\n",
       "        [[ 8,  9, 10, 11],\n",
       "         [12, 13, 14, 15]],\n",
       "\n",
       "        [[16, 17, 18, 19],\n",
       "         [20, 21, 22, 23]]]])"
      ]
     },
     "execution_count": 132,
     "metadata": {},
     "output_type": "execute_result"
    }
   ],
   "source": [
    "X = np.arange(0,24).reshape(1,3,2,4)\n",
    "X"
   ]
  },
  {
   "cell_type": "code",
   "execution_count": 133,
   "metadata": {},
   "outputs": [
    {
     "name": "stdout",
     "output_type": "stream",
     "text": [
      "[[ 0.  1.  2.  3.  4.  5.  6.  7.  8.  9. 10. 11. 12. 13. 14. 15. 16. 17.\n",
      "  18. 19. 20. 21. 22. 23.]]\n"
     ]
    }
   ],
   "source": [
    "# define a model that only flattens the data\n",
    "inputs = Input(shape=(3,2,4))\n",
    "output = Flatten()(inputs)\n",
    "flatten_model = Model(inputs=inputs, outputs=output)\n",
    "\n",
    "# view the flattened output\n",
    "print(flatten_model.predict(X))"
   ]
  },
  {
   "cell_type": "markdown",
   "metadata": {},
   "source": [
    "##### Dense"
   ]
  },
  {
   "cell_type": "code",
   "execution_count": 134,
   "metadata": {},
   "outputs": [
    {
     "data": {
      "text/plain": [
       "13"
      ]
     },
     "execution_count": 134,
     "metadata": {},
     "output_type": "execute_result"
    }
   ],
   "source": [
    "# review the number of classes to predict\n",
    "num_classes"
   ]
  },
  {
   "cell_type": "code",
   "execution_count": 135,
   "metadata": {},
   "outputs": [],
   "source": [
    "model.add(Dense(num_classes, activation='softmax'))"
   ]
  },
  {
   "cell_type": "markdown",
   "metadata": {},
   "source": [
    "### Compilation\n",
    "\n",
    "Before training a model, you need to configure the learning process, which is done via the compile method. It receives three arguments:\n",
    "\n",
    "- **An optimizer:** This could be the string identifier of an existing optimizer (such as adam, rmsprop, or adagrad), or an instance of the Optimizer class. See: [optimizers](https://keras.io/optimizers/).\n",
    "- **A loss function:** This is the objective that the model will try to minimize. It can be the string identifier of an existing loss function (such as categorical_crossentropy or mse), or it can be an objective function. See: [losses](https://keras.io/losses/).\n",
    "- **A list of metrics:** For any classification problem you will want to set this to metrics=['accuracy']. A metric could be the string identifier of an existing metric or a custom metric function."
   ]
  },
  {
   "cell_type": "code",
   "execution_count": 136,
   "metadata": {},
   "outputs": [],
   "source": [
    "# compile the model\n",
    "model.compile(optimizer='rmsprop', loss='categorical_crossentropy', metrics=['accuracy'])"
   ]
  },
  {
   "cell_type": "code",
   "execution_count": 137,
   "metadata": {},
   "outputs": [
    {
     "name": "stdout",
     "output_type": "stream",
     "text": [
      "_________________________________________________________________\n",
      "Layer (type)                 Output Shape              Param #   \n",
      "=================================================================\n",
      "embedding_1 (Embedding)      (None, 10, 50)            1021950   \n",
      "_________________________________________________________________\n",
      "flatten_1 (Flatten)          (None, 500)               0         \n",
      "_________________________________________________________________\n",
      "dense_1 (Dense)              (None, 13)                6513      \n",
      "=================================================================\n",
      "Total params: 1,028,463\n",
      "Trainable params: 6,513\n",
      "Non-trainable params: 1,021,950\n",
      "_________________________________________________________________\n",
      "None\n"
     ]
    }
   ],
   "source": [
    "# summarize the model\n",
    "print(model.summary())"
   ]
  },
  {
   "cell_type": "code",
   "execution_count": 138,
   "metadata": {},
   "outputs": [
    {
     "data": {
      "text/plain": [
       "13"
      ]
     },
     "execution_count": 138,
     "metadata": {},
     "output_type": "execute_result"
    }
   ],
   "source": [
    "len(y_train_array[0])"
   ]
  },
  {
   "cell_type": "code",
   "execution_count": 139,
   "metadata": {},
   "outputs": [
    {
     "name": "stdout",
     "output_type": "stream",
     "text": [
      "Train on 46022 samples, validate on 15341 samples\n",
      "Epoch 1/4\n",
      "46022/46022 [==============================] - 2s 46us/step - loss: 2.0357 - acc: 0.3458 - val_loss: 1.8712 - val_acc: 0.4081\n",
      "Epoch 2/4\n",
      "46022/46022 [==============================] - 2s 47us/step - loss: 1.8057 - acc: 0.4297 - val_loss: 1.8189 - val_acc: 0.4271\n",
      "Epoch 3/4\n",
      "46022/46022 [==============================] - 2s 50us/step - loss: 1.7677 - acc: 0.4394 - val_loss: 1.8067 - val_acc: 0.4337\n",
      "Epoch 4/4\n",
      "46022/46022 [==============================] - 3s 73us/step - loss: 1.7528 - acc: 0.4461 - val_loss: 1.7989 - val_acc: 0.4337\n"
     ]
    },
    {
     "data": {
      "text/plain": [
       "<keras.callbacks.History at 0x1fe6eef2c88>"
      ]
     },
     "execution_count": 139,
     "metadata": {},
     "output_type": "execute_result"
    }
   ],
   "source": [
    "# fit the model\n",
    "model.fit(\n",
    "    X_train_sequence, \n",
    "    y_train_array,\n",
    "    epochs=4,\n",
    "    validation_data=(X_test_sequence, y_test_array)\n",
    ")"
   ]
  },
  {
   "cell_type": "code",
   "execution_count": 140,
   "metadata": {},
   "outputs": [
    {
     "name": "stdout",
     "output_type": "stream",
     "text": [
      "15341/15341 [==============================] - 0s 17us/step\n",
      "Accuracy: 43.37%\n"
     ]
    }
   ],
   "source": [
    "# evaluate the model\n",
    "loss, accuracy = model.evaluate(X_test_sequence, y_test_array)\n",
    "print(f'Accuracy: {accuracy*100 :.2f}%')"
   ]
  },
  {
   "cell_type": "code",
   "execution_count": 143,
   "metadata": {},
   "outputs": [
    {
     "data": {
      "text/plain": [
       "array([ 3,  1,  1,  4,  5,  7, 10,  1,  9,  3], dtype=int64)"
      ]
     },
     "execution_count": 143,
     "metadata": {},
     "output_type": "execute_result"
    }
   ],
   "source": [
    "y_pred = model.predict_classes(X_test_sequence)\n",
    "y_pred[0:10]"
   ]
  },
  {
   "cell_type": "markdown",
   "metadata": {},
   "source": [
    "### Analyze Results"
   ]
  },
  {
   "cell_type": "code",
   "execution_count": 146,
   "metadata": {},
   "outputs": [
    {
     "data": {
      "text/plain": [
       "{0: 'NATIONAL INSTITUTE OF MENTAL HEALTH',\n",
       " 1: 'NATIONAL CANCER INSTITUTE',\n",
       " 2: 'NATIONAL INSTITUTE OF ENVIRONMENTAL HEALTH SCIENCES',\n",
       " 3: 'NATIONAL INSTITUTE OF GENERAL MEDICAL SCIENCES',\n",
       " 4: 'NATIONAL INSTITUTE OF NEUROLOGICAL DISORDERS AND STROKE',\n",
       " 5: 'NATIONAL INSTITUTE ON AGING',\n",
       " 6: 'NATIONAL HEART, LUNG, AND BLOOD INSTITUTE',\n",
       " 7: 'NATIONAL INSTITUTE OF DIABETES AND DIGESTIVE AND KIDNEY DISEASES',\n",
       " 8: 'EUNICE KENNEDY SHRIVER NATIONAL INSTITUTE OF CHILD HEALTH & HUMAN DEVELOPMENT',\n",
       " 9: 'NATIONAL EYE INSTITUTE',\n",
       " 10: 'NATIONAL INSTITUTE ON DRUG ABUSE',\n",
       " 11: 'NATIONAL INSTITUTE OF ALLERGY AND INFECTIOUS DISEASES',\n",
       " 12: 'NATIONAL INSTITUTE OF ARTHRITIS AND MUSCULOSKELETAL AND SKIN DISEASES'}"
      ]
     },
     "execution_count": 146,
     "metadata": {},
     "output_type": "execute_result"
    }
   ],
   "source": [
    "ic_name_map"
   ]
  },
  {
   "cell_type": "code",
   "execution_count": 147,
   "metadata": {},
   "outputs": [
    {
     "data": {
      "text/plain": [
       "['MENTAL HEALTH',\n",
       " 'CANCER INSTITUTE',\n",
       " 'ENVIRONMENTAL HEALTH SCIENCES',\n",
       " 'GENERAL MEDICAL SCIENCES',\n",
       " 'NEUROLOGICAL DISORDERS AND STROKE',\n",
       " 'ON AGING',\n",
       " 'HEART, LUNG, AND BLOOD INSTITUTE',\n",
       " 'DIABETES AND DIGESTIVE AND KIDNEY DISEASES',\n",
       " 'EUNICE KENNEDY SHRIVER CHILD HEALTH & HUMAN DEVELOPMENT',\n",
       " 'EYE INSTITUTE',\n",
       " 'ON DRUG ABUSE',\n",
       " 'ALLERGY AND INFECTIOUS DISEASES',\n",
       " 'ARTHRITIS AND MUSCULOSKELETAL AND SKIN DISEASES']"
      ]
     },
     "execution_count": 147,
     "metadata": {},
     "output_type": "execute_result"
    }
   ],
   "source": [
    "labels = [ic_name_map[ind].replace('NATIONAL ', '').replace('INSTITUTE ', '').replace('OF ', '') for ind in range(0,13)]\n",
    "labels"
   ]
  },
  {
   "cell_type": "code",
   "execution_count": 148,
   "metadata": {},
   "outputs": [
    {
     "data": {
      "text/plain": [
       "<matplotlib.axes._subplots.AxesSubplot at 0x1fe70ca4828>"
      ]
     },
     "execution_count": 148,
     "metadata": {},
     "output_type": "execute_result"
    },
    {
     "data": {
      "image/png": "[encoded data removed]",
      "text/plain": [
       "<Figure size 432x288 with 2 Axes>"
      ]
     },
     "metadata": {
      "needs_background": "light"
     },
     "output_type": "display_data"
    }
   ],
   "source": [
    "# create a confusion matrix\n",
    "heatmap_df = pd.DataFrame(confusion_matrix(y_true=y_test, y_pred=y_pred), columns=labels, index=labels)\n",
    "\n",
    "# set the diagonal (i.e. correct predictions) to zero so that they do not over-influence the heatmap legend\n",
    "np.fill_diagonal(heatmap_df.values, 0)\n",
    "\n",
    "# plot the confusion matrix\n",
    "sns.heatmap(heatmap_df)"
   ]
  },
  {
   "cell_type": "code",
   "execution_count": 152,
   "metadata": {},
   "outputs": [
    {
     "name": "stdout",
     "output_type": "stream",
     "text": [
      "accuracy: 0.6880907372400756\n",
      "log loss (cross-entropy): 1.133575005796446\n"
     ]
    }
   ],
   "source": [
    "from sklearn.linear_model import LogisticRegression\n",
    "from sklearn import metrics\n",
    "from sklearn.feature_extraction.text import TfidfVectorizer\n",
    "\n",
    "# vectorize text\n",
    "tfidf = TfidfVectorizer(max_features=20000, ngram_range=(1,1))\n",
    "X_train_vect = tfidf.fit_transform(X_train)\n",
    "X_test_vect = tfidf.transform(X_test)\n",
    "\n",
    "# train model\n",
    "logreg = LogisticRegression(solver='lbfgs', max_iter=300, multi_class='auto')\n",
    "logreg.fit(X_train_vect, y_train)\n",
    "\n",
    "# store predictions\n",
    "y_pred = logreg.predict(X_test_vect)\n",
    "y_pred_proba = logreg.predict_proba(X_test_vect)\n",
    "\n",
    "# evaluate model\n",
    "print(f'accuracy: {metrics.accuracy_score(y_test, y_pred)}')\n",
    "print(f'log loss (cross-entropy): {metrics.log_loss(y_test, y_pred_proba)}')"
   ]
  },
  {
   "cell_type": "code",
   "execution_count": 154,
   "metadata": {},
   "outputs": [
    {
     "data": {
      "text/plain": [
       "<matplotlib.axes._subplots.AxesSubplot at 0x1fe71c7e668>"
      ]
     },
     "execution_count": 154,
     "metadata": {},
     "output_type": "execute_result"
    },
    {
     "data": {
      "image/png": "[encoded data removed]",
      "text/plain": [
       "<Figure size 432x288 with 2 Axes>"
      ]
     },
     "metadata": {
      "needs_background": "light"
     },
     "output_type": "display_data"
    }
   ],
   "source": [
    "# create a confusion matrix\n",
    "heatmap_df = pd.DataFrame(confusion_matrix(y_true=y_test, y_pred=y_pred), columns=labels, index=labels)\n",
    "\n",
    "# set the diagonal (i.e. correct predictions) to zero so that they do not over-influence the heatmap legend\n",
    "np.fill_diagonal(heatmap_df.values, 0)\n",
    "\n",
    "# plot the confusion matrix\n",
    "sns.heatmap(heatmap_df)"
   ]
  },
  {
   "cell_type": "markdown",
   "metadata": {},
   "source": [
    "# Full Embedding and Model Pipeline Class"
   ]
  },
  {
   "cell_type": "code",
   "execution_count": 155,
   "metadata": {},
   "outputs": [],
   "source": [
    "class EmbeddingModel:\n",
    "    \n",
    "    def __init__(self, X_train, X_test, y_train, y_test, \n",
    "                 max_num_words=20000, max_seq_length=50, embedding_size=50, embedding_dir=None):\n",
    "                \n",
    "        # set tokenizer params\n",
    "        self.max_num_words = max_num_words\n",
    "        self.max_seq_length = max_seq_length\n",
    "        self.vocab_size = None\n",
    "        self.tokenizer = None\n",
    "\n",
    "        # format data\n",
    "        self.num_classes = len(set(y_train))        \n",
    "        self.y_train_array = to_categorical(y_train, self.num_classes)\n",
    "        self.y_test_array = to_categorical(y_test, self.num_classes)\n",
    "        self.X_train = X_train\n",
    "        self.X_test = X_test\n",
    "        self.X_train_sequence = self.encode_text(X_train, train=True)\n",
    "        self.X_test_sequence = self.encode_text(X_test, train=False)\n",
    "                \n",
    "        # set embedding params\n",
    "        self.embedding_dir = embedding_dir\n",
    "        self.embedding_size = embedding_size\n",
    "        self.embeddings_index = None\n",
    "        self.embedding_matrix = None\n",
    "        \n",
    "        # set model params\n",
    "        self.model = None\n",
    "    \n",
    "    def setup_model_pipeline(self):\n",
    "        self.create_embeddings_index()\n",
    "        self.create_embedding_matrix()\n",
    "        print('model pipeline set-up complete')\n",
    "\n",
    "    def encode_text(self, text, train=False):\n",
    "        if train:\n",
    "            self.tokenizer = Tokenizer(num_words=self.max_num_words)\n",
    "            self.tokenizer.fit_on_texts(text)\n",
    "\n",
    "        encoded_docs = self.tokenizer.texts_to_sequences(text)\n",
    "        padded_docs = pad_sequences(\n",
    "            encoded_docs,\n",
    "            maxlen=self.max_seq_length,\n",
    "            padding='post'\n",
    "        )\n",
    "\n",
    "        print(f'completed tokenizing and padding text - train: {train}')\n",
    "        self.vocab_size = len(self.tokenizer.word_index) + 1\n",
    "        return padded_docs\n",
    "\n",
    "    def create_embeddings_index(self):\n",
    "        embeddings_index = {}\n",
    "\n",
    "        with open(self.embedding_dir, 'rb') as f:\n",
    "            for line in f:\n",
    "                values = line.split()\n",
    "                word = values[0].decode('utf-8')\n",
    "                embedding = np.asarray(values[1:], dtype='float32')\n",
    "                embeddings_index[word] = embedding\n",
    "\n",
    "        print('completed creating embedding index')\n",
    "        self.embeddings_index = embeddings_index\n",
    "\n",
    "    def create_embedding_matrix(self):\n",
    "        embedding_matrix = zeros((self.vocab_size, self.embedding_size))\n",
    "\n",
    "        for word, i in self.tokenizer.word_index.items():    \n",
    "            embedding_vector = self.embeddings_index.get(word)\n",
    "\n",
    "            if embedding_vector is not None:\n",
    "                embedding_matrix[i] = embedding_vector\n",
    "\n",
    "        print('completed creating embedding matrix')\n",
    "        self.embedding_matrix = embedding_matrix\n",
    "\n",
    "    def get_embedding_layer(self):\n",
    "        embedding = Embedding(\n",
    "            input_dim=self.vocab_size, \n",
    "            output_dim=self.embedding_size,                                    \n",
    "            input_length=self.max_seq_length,\n",
    "            embeddings_initializer=Constant(self.embedding_matrix),\n",
    "            trainable=False                                   \n",
    "        )\n",
    "\n",
    "        return embedding\n",
    "\n",
    "    def fit(self, model=None, epochs=10):\n",
    "        if model:\n",
    "            print('using custom model')\n",
    "        else:\n",
    "            # default model if a custom model is not provided\n",
    "            model = Sequential()\n",
    "            model.add(self.get_embedding_layer())\n",
    "            model.add(Flatten())\n",
    "            model.add(Dense(self.num_classes, activation='softmax'))\n",
    "            model.compile(optimizer='rmsprop', loss='categorical_crossentropy', metrics=['accuracy'])\n",
    "        \n",
    "        # train model\n",
    "        model.fit(\n",
    "            self.X_train_sequence, \n",
    "            self.y_train_array,\n",
    "            epochs=epochs,\n",
    "            validation_data=(self.X_test_sequence, self.y_test_array)\n",
    "        )\n",
    "\n",
    "        print('completed training model')\n",
    "        self.model = model\n",
    "        \n",
    "    def predict(self, X):\n",
    "        encoded_text = self.encode_text(X, train=False)\n",
    "        y_pred = self.model.predict_classes(encoded_text)\n",
    "        \n",
    "        return y_pred"
   ]
  },
  {
   "cell_type": "code",
   "execution_count": null,
   "metadata": {},
   "outputs": [],
   "source": [
    "# instantiate nlp model pipeline\n",
    "embedding_model = EmbeddingModel(\n",
    "    X_train=X_train, \n",
    "    X_test=X_test, \n",
    "    y_train=y_train, \n",
    "    y_test=y_test,\n",
    "    max_num_words=25000,\n",
    "    max_seq_length=75,\n",
    "    embedding_dir=r'glove.6B.50d.txt',\n",
    "    embedding_size=50\n",
    ")\n",
    "\n",
    "# set-up and train model\n",
    "embedding_model.setup_model_pipeline()\n",
    "embedding_model.fit(epochs=3)"
   ]
  },
  {
   "cell_type": "markdown",
   "metadata": {},
   "source": [
    "# Use context specific Embeddings"
   ]
  },
  {
   "cell_type": "markdown",
   "metadata": {},
   "source": [
    "##### bioasq\n",
    "\n",
    "\"We applied word2vec to a corpus of 10,876,004 English abstracts of biomedical articles from PubMed. The resulting vectors of 1,701,632 distinct words (types) are now publicly available from http://bioasq.lip6.fr/tools/BioASQword2vec/. File size: 1.3GB (compressed), 3.5GB (uncompressed).\"\n",
    "\n",
    "SOURCE: http://bioasq.org/news/bioasq-releases-continuous-space-word-vectors-obtained-applying-word2vec-pubmed-abstracts"
   ]
  },
  {
   "cell_type": "code",
   "execution_count": 165,
   "metadata": {},
   "outputs": [],
   "source": [
    "class BioasqEmbeddingModel(EmbeddingModel):\n",
    "\n",
    "    # override the EmbeddingModel's create_embeddings_index to read in bioasq embeddings\n",
    "    def create_embeddings_index(self):\n",
    "\n",
    "        # read in a file with all the learned tokens\n",
    "        with open(r'word2vecTools\\types.txt', 'rb') as f:\n",
    "            tokens = [line.strip().decode('utf-8') for line in f]\n",
    "\n",
    "        # read in a file with the associated embeddings for the tokens\n",
    "        with open(r'word2vecTools\\vectors.txt', 'rb') as f:\n",
    "            embeddings = [np.asarray(embedding.split(), dtype='float32') for embedding in f]\n",
    "\n",
    "        # create a dict of the word --> embedding mappings\n",
    "        embeddings_index = {word:embedding for word, embedding in zip(tokens, embeddings)}\n",
    "\n",
    "        print('completed creating pubmed embedding index')\n",
    "        self.embeddings_index = embeddings_index"
   ]
  },
  {
   "cell_type": "code",
   "execution_count": null,
   "metadata": {
    "scrolled": false
   },
   "outputs": [
    {
     "name": "stdout",
     "output_type": "stream",
     "text": [
      "completed tokenizing and padding text - train: True\n",
      "completed tokenizing and padding text - train: False\n"
     ]
    }
   ],
   "source": [
    "%%time\n",
    "\n",
    "# set-up model pipeline\n",
    "bioasq_model = BioasqEmbeddingModel(\n",
    "    X_train=X_train, \n",
    "    X_test=X_test, \n",
    "    y_train=y_train,\n",
    "    y_test=y_test,\n",
    "    max_num_words=25000,\n",
    "    max_seq_length=75,\n",
    "    embedding_size=200\n",
    ")\n",
    "bioasq_model.setup_model_pipeline()"
   ]
  },
  {
   "cell_type": "code",
   "execution_count": null,
   "metadata": {},
   "outputs": [],
   "source": [
    "%%time\n",
    "\n",
    "# default model if a custom model is not provided\n",
    "model = Sequential()\n",
    "model.add(bioasq_model.get_embedding_layer())\n",
    "model.add(Flatten())\n",
    "model.add(Dense(bioasq_model.num_classes, activation='softmax'))\n",
    "model.compile(optimizer='rmsprop', loss='categorical_crossentropy', metrics=['accuracy'])\n",
    "\n",
    "# train model\n",
    "bioasq_model.fit(epochs=3, model=model)"
   ]
  },
  {
   "cell_type": "markdown",
   "metadata": {},
   "source": [
    "##### Biomedical natural language processing (Pubmed, PMC, and Wikipedia combined embeddings)\n",
    "\n",
    "NOTE: This embedding file is 4GB\n",
    "\n",
    "\"The openly available biomedical literature contains over 5 billion words in publication abstracts and full texts. Recent advances in unsupervised language processing methods have made it possible to make use of such large unannotated corpora for building statistical language models and inducing high quality vector space representations, which are, in turn, of utility in many tasks such as text classification, named entity recognition and query expansion. In this study, we introduce the first set of such language resources created from analysis of the entire available biomedical literature, including a dataset of all 1- to 5-grams and their probabilities in these texts and new models of word semantics. We discuss the opportunities created by these resources and demonstrate their application. All resources introduced in this study are available under open licenses at http://bio.nlplab.org.\"\n",
    "\n",
    "SOURCE: http://bio.nlplab.org/#word-vector-tools\n",
    "PUBLICATION: http://bio.nlplab.org/pdf/pyysalo13literature.pdf"
   ]
  },
  {
   "cell_type": "code",
   "execution_count": 461,
   "metadata": {},
   "outputs": [],
   "source": [
    "class PubmedEmbeddingModel(EmbeddingModel):\n",
    "\n",
    "    # override the EmbeddingModel's create_embeddings_index to read in pubmed embeddings\n",
    "    def create_embeddings_index(self):\n",
    "\n",
    "        embedding_path = r'wikipedia-pubmed-and-PMC-w2v.bin'\n",
    "        word_vectors = KeyedVectors.load_word2vec_format(embedding_path, binary=True)\n",
    "\n",
    "        # create a dict of the word --> embedding mappings\n",
    "        embeddings_index = {word: word_vectors.get_vector(word) for word in word_vectors.index2word}\n",
    "\n",
    "        print('completed creating pubmed embedding index')\n",
    "        self.embeddings_index = embeddings_index"
   ]
  },
  {
   "cell_type": "code",
   "execution_count": 462,
   "metadata": {},
   "outputs": [
    {
     "name": "stdout",
     "output_type": "stream",
     "text": [
      "completed tokenizing and padding text - train: True\n",
      "completed tokenizing and padding text - train: False\n",
      "completed creating pubmed embedding index\n",
      "completed creating embedding matrix\n",
      "model pipeline set-up complete\n",
      "Wall time: 33.1 s\n"
     ]
    }
   ],
   "source": [
    "%%time\n",
    "\n",
    "# set-up model pipeline\n",
    "pubmed_model = PubmedEmbeddingModel(\n",
    "    X_train=X_train, \n",
    "    X_test=X_test, \n",
    "    y_train=y_train,\n",
    "    y_test=y_test,\n",
    "    max_num_words=25000,\n",
    "    max_seq_length=75,\n",
    "    embedding_size=200\n",
    ")\n",
    "pubmed_model.setup_model_pipeline()"
   ]
  },
  {
   "cell_type": "code",
   "execution_count": 463,
   "metadata": {},
   "outputs": [
    {
     "name": "stdout",
     "output_type": "stream",
     "text": [
      "Train on 46022 samples, validate on 15341 samples\n",
      "Epoch 1/3\n",
      "46022/46022 [==============================] - 23s 490us/step - loss: 1.6048 - acc: 0.5187 - val_loss: 1.3970 - val_acc: 0.5751\n",
      "Epoch 2/3\n",
      "46022/46022 [==============================] - 18s 395us/step - loss: 1.2687 - acc: 0.6187 - val_loss: 1.3263 - val_acc: 0.5934\n",
      "Epoch 3/3\n",
      "46022/46022 [==============================] - 18s 385us/step - loss: 1.1725 - acc: 0.6453 - val_loss: 1.3068 - val_acc: 0.5994\n",
      "completed training model\n",
      "Wall time: 59.7 s\n"
     ]
    }
   ],
   "source": [
    "%%time\n",
    "\n",
    "pubmed_model.fit(epochs=3)"
   ]
  },
  {
   "cell_type": "markdown",
   "metadata": {},
   "source": [
    "# 4. build a deep learning model (e.g. convolutional neural network), ending in a softmax output."
   ]
  },
  {
   "cell_type": "markdown",
   "metadata": {},
   "source": [
    "### Convolutional Neural Networ (CNN)"
   ]
  },
  {
   "cell_type": "code",
   "execution_count": 162,
   "metadata": {},
   "outputs": [],
   "source": [
    "# define model\n",
    "\n",
    "def build_cnn_model(model):\n",
    "    cnn_model = Sequential()\n",
    "    cnn_model.add(model.get_embedding_layer())\n",
    "    cnn_model.add(Conv1D(128, 4, activation='relu'))\n",
    "    cnn_model.add(MaxPooling1D(4))\n",
    "    cnn_model.add(Dropout(.1))\n",
    "\n",
    "#    cnn_model.add(GlobalAveragePooling1D())\n",
    "    cnn_model.add(Dense(units=128, activation='relu'))\n",
    "    cnn_model.add(Dense(units=64, activation='relu'))\n",
    "\n",
    "    cnn_model.add(Dense(embedding_model.num_classes, activation='softmax'))\n",
    "    cnn_model.compile(optimizer='rmsprop', loss='categorical_crossentropy', metrics=['accuracy'])\n",
    "    \n",
    "    return cnn_model"
   ]
  },
  {
   "cell_type": "code",
   "execution_count": 163,
   "metadata": {},
   "outputs": [
    {
     "name": "stdout",
     "output_type": "stream",
     "text": [
      "using custom model\n",
      "Train on 46022 samples, validate on 15341 samples\n",
      "Epoch 1/3\n",
      "46022/46022 [==============================] - 21s 461us/step - loss: 1.8726 - acc: 0.4022 - val_loss: 1.6513 - val_acc: 0.4862\n",
      "Epoch 2/3\n",
      "46022/46022 [==============================] - 20s 424us/step - loss: 1.5385 - acc: 0.5237 - val_loss: 1.4968 - val_acc: 0.5427\n",
      "Epoch 3/3\n",
      "46022/46022 [==============================] - 19s 408us/step - loss: 1.4097 - acc: 0.5651 - val_loss: 1.4448 - val_acc: 0.5640\n",
      "completed training model\n"
     ]
    }
   ],
   "source": [
    "# set-up and train model\n",
    "cnn_model = build_cnn_model(embedding_model)\n",
    "embedding_model.fit(epochs=3, model=cnn_model)"
   ]
  },
  {
   "cell_type": "code",
   "execution_count": null,
   "metadata": {},
   "outputs": [],
   "source": [
    "cnn_model = build_cnn_model(bioasq_model)\n",
    "bioasq_model.fit(epochs=15, model=cnn_model)"
   ]
  },
  {
   "cell_type": "code",
   "execution_count": 528,
   "metadata": {},
   "outputs": [
    {
     "name": "stdout",
     "output_type": "stream",
     "text": [
      "Train on 46022 samples, validate on 15341 samples\n",
      "Epoch 1/6\n",
      "46022/46022 [==============================] - 29s 639us/step - loss: 1.6046 - acc: 0.5183 - val_loss: 1.3965 - val_acc: 0.5799\n",
      "Epoch 2/6\n",
      "46022/46022 [==============================] - 21s 456us/step - loss: 1.2689 - acc: 0.6165 - val_loss: 1.3215 - val_acc: 0.5954\n",
      "Epoch 3/6\n",
      "46022/46022 [==============================] - 20s 445us/step - loss: 1.1727 - acc: 0.6438 - val_loss: 1.3039 - val_acc: 0.6005ss: 1.1719 - acc\n",
      "Epoch 4/6\n",
      "46022/46022 [==============================] - 22s 476us/step - loss: 1.1168 - acc: 0.6594 - val_loss: 1.2962 - val_acc: 0.6004\n",
      "Epoch 5/6\n",
      "46022/46022 [==============================] - 22s 475us/step - loss: 1.0775 - acc: 0.6692 - val_loss: 1.2957 - val_acc: 0.6047\n",
      "Epoch 6/6\n",
      "46022/46022 [==============================] - 21s 456us/step - loss: 1.0485 - acc: 0.6790 - val_loss: 1.3003 - val_acc: 0.6040 11s -  - ETA: 10s - loss: 1.0379 - - ETA: 9s - loss: 1.0364 - acc: 0.68 - ETA: 9s - loss: 1 - ETA: 8s - - ETA:  - ETA: 0s - loss: - ETA: 0s - loss: 1.0486 - acc: 0.679\n",
      "completed training model\n"
     ]
    }
   ],
   "source": [
    "cnn_model = build_cnn_model(pubmed_model)\n",
    "pubmed_model.fit(epochs=6, model=cnn_model)"
   ]
  },
  {
   "cell_type": "markdown",
   "metadata": {},
   "source": [
    "### LSTM"
   ]
  },
  {
   "cell_type": "code",
   "execution_count": 535,
   "metadata": {},
   "outputs": [],
   "source": [
    "# define model\n",
    "def build_lstm(model):\n",
    "    lstm_model = Sequential()\n",
    "    lstm_model.add(model.get_embedding_layer())\n",
    "    lstm_model.add(LSTM(64))\n",
    "    lstm_model.add(Dense(embedding_model.num_classes, activation='softmax'))\n",
    "    lstm_model.compile(optimizer='rmsprop', loss='categorical_crossentropy', metrics=['accuracy'])\n",
    "    \n",
    "    return lstm_model"
   ]
  },
  {
   "cell_type": "code",
   "execution_count": 451,
   "metadata": {},
   "outputs": [
    {
     "name": "stdout",
     "output_type": "stream",
     "text": [
      "using custom model\n",
      "Train on 46022 samples, validate on 15341 samples\n",
      "Epoch 1/4\n",
      "46022/46022 [==============================] - 102s 2ms/step - loss: 2.1675 - acc: 0.2558 - val_loss: 2.0268 - val_acc: 0.3135s - loss: 2.1727 - acc: 0.253 - ETA: 2s  - ETA: 0s - loss: 2.1693 - \n",
      "Epoch 2/4\n",
      "46022/46022 [==============================] - 101s 2ms/step - loss: 1.8809 - acc: 0.3876 - val_loss: 1.8669 - val_acc: 0.3991\n",
      "Epoch 3/4\n",
      "46022/46022 [==============================] - 100s 2ms/step - loss: 1.7459 - acc: 0.4539 - val_loss: 1.7700 - val_acc: 0.4317c: 0.453 - ETA: 0s - loss: 1.7469 - acc\n",
      "Epoch 4/4\n",
      "46022/46022 [==============================] - 97s 2ms/step - loss: 1.6422 - acc: 0.4933 - val_loss: 1.6349 - val_acc: 0.4956- loss: 1.6437 -  - ETA: 5s - loss: 1.6429 - ETA: 5s - loss: 1. - ETA: 3s - l -\n",
      "completed training model\n"
     ]
    }
   ],
   "source": [
    "# set-up and train model\n",
    "lstm_model = build_lstm(embedding_model)\n",
    "embedding_model.fit(epochs=4, model=lstm_model)"
   ]
  },
  {
   "cell_type": "code",
   "execution_count": 536,
   "metadata": {},
   "outputs": [
    {
     "name": "stdout",
     "output_type": "stream",
     "text": [
      "using custom model\n",
      "Train on 46022 samples, validate on 15341 samples\n",
      "Epoch 1/10\n",
      "46022/46022 [==============================] - 173s 4ms/step - loss: 1.5336 - acc: 0.5225 - val_loss: 1.3067 - val_acc: 0.6036\n",
      "Epoch 2/10\n",
      "46022/46022 [==============================] - 180s 4ms/step - loss: 1.1605 - acc: 0.6502 - val_loss: 1.1643 - val_acc: 0.6462\n",
      "Epoch 3/10\n",
      "46022/46022 [==============================] - 183s 4ms/step - loss: 1.0580 - acc: 0.6780 - val_loss: 1.0945 - val_acc: 0.6674\n",
      "Epoch 4/10\n",
      "46022/46022 [==============================] - 167s 4ms/step - loss: 0.9971 - acc: 0.6937 - val_loss: 1.0614 - val_acc: 0.6794\n",
      "Epoch 5/10\n",
      "46022/46022 [==============================] - 163s 4ms/step - loss: 0.9509 - acc: 0.7066 - val_loss: 1.0871 - val_acc: 0.6720\n",
      "Epoch 6/10\n",
      "46022/46022 [==============================] - 165s 4ms/step - loss: 0.9127 - acc: 0.7162 - val_loss: 1.0245 - val_acc: 0.6874\n",
      "Epoch 7/10\n",
      "46022/46022 [==============================] - 184s 4ms/step - loss: 0.8792 - acc: 0.7274 - val_loss: 1.0153 - val_acc: 0.6914\n",
      "Epoch 8/10\n",
      "46022/46022 [==============================] - 186s 4ms/step - loss: 0.8458 - acc: 0.7362 - val_loss: 1.0322 - val_acc: 0.6880\n",
      "Epoch 9/10\n",
      "46022/46022 [==============================] - 155s 3ms/step - loss: 0.8191 - acc: 0.7451 - val_loss: 1.0092 - val_acc: 0.6964\n",
      "Epoch 10/10\n",
      "46022/46022 [==============================] - 169s 4ms/step - loss: 0.7927 - acc: 0.7530 - val_loss: 1.0351 - val_acc: 0.6899\n",
      "completed training model\n"
     ]
    }
   ],
   "source": [
    "# set-up and train model\n",
    "lstm_model = build_lstm(bioasq_model)\n",
    "bioasq_model.fit(epochs=10, model=lstm_model)"
   ]
  },
  {
   "cell_type": "code",
   "execution_count": null,
   "metadata": {},
   "outputs": [
    {
     "name": "stdout",
     "output_type": "stream",
     "text": [
      "using custom model\n",
      "Train on 46022 samples, validate on 15341 samples\n",
      "Epoch 1/11\n",
      "46022/46022 [==============================] - 332s 7ms/step - loss: 1.9865 - acc: 0.3154 - val_loss: 1.7865 - val_acc: 0.4128\n",
      "Epoch 2/11\n",
      "46022/46022 [==============================] - 326s 7ms/step - loss: 1.6511 - acc: 0.4730 - val_loss: 1.5636 - val_acc: 0.5154: \n",
      "Epoch 3/11\n",
      "46022/46022 [==============================] - 342s 7ms/step - loss: 1.4599 - acc: 0.5602 - val_loss: 1.4671 - val_acc: 0.5521\n",
      "Epoch 4/11\n",
      "46022/46022 [==============================] - 319s 7ms/step - loss: 1.3444 - acc: 0.6062 - val_loss: 1.3386 - val_acc: 0.6104\n",
      "Epoch 5/11\n",
      "46016/46022 [============================>.] - ETA: 0s - loss: 1.2632 - acc: 0.6325"
     ]
    }
   ],
   "source": [
    "lstm_model = build_lstm(pubmed_model)\n",
    "pubmed_model.fit(epochs=11, model=lstm_model)"
   ]
  },
  {
   "cell_type": "markdown",
   "metadata": {},
   "source": [
    "# FLAIR "
   ]
  },
  {
   "cell_type": "code",
   "execution_count": null,
   "metadata": {},
   "outputs": [],
   "source": [
    "https://github.com/zalandoresearch/flair/blob/master/flair/embeddings.py\n",
    "    \n",
    "embedding example: \n",
    "#    def _add_embeddings_internal(self, sentences: List[Sentence]) -> List[Sentence]:"
   ]
  },
  {
   "cell_type": "code",
   "execution_count": null,
   "metadata": {},
   "outputs": [],
   "source": []
  }
 ],
 "metadata": {
  "kernelspec": {
   "display_name": "Python [conda env:guild] *",
   "language": "python",
   "name": "conda-env-guild-py"
  },
  "language_info": {
   "codemirror_mode": {
    "name": "ipython",
    "version": 3
   },
   "file_extension": ".py",
   "mimetype": "text/x-python",
   "name": "python",
   "nbconvert_exporter": "python",
   "pygments_lexer": "ipython3",
   "version": "3.6.7"
  }
 },
 "nbformat": 4,
 "nbformat_minor": 2
}
